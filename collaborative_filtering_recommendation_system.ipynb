{
  "nbformat": 4,
  "nbformat_minor": 0,
  "metadata": {
    "kernelspec": {
      "display_name": "Python 3",
      "language": "python",
      "name": "python3"
    },
    "language_info": {
      "codemirror_mode": {
        "name": "ipython",
        "version": 3
      },
      "file_extension": ".py",
      "mimetype": "text/x-python",
      "name": "python",
      "nbconvert_exporter": "python",
      "pygments_lexer": "ipython3",
      "version": "3.6.6"
    },
    "colab": {
      "name": "collaborative_filtering_recommendation_system.ipynb",
      "provenance": [],
      "collapsed_sections": [],
      "toc_visible": true,
      "include_colab_link": true
    }
  },
  "cells": [
    {
      "cell_type": "markdown",
      "metadata": {
        "id": "view-in-github",
        "colab_type": "text"
      },
      "source": [
        "<a href=\"https://colab.research.google.com/github/CGrannan/building-boardgame-recommendation-systems/blob/master/collaborative_filtering_recommendation_system.ipynb\" target=\"_parent\"><img src=\"https://colab.research.google.com/assets/colab-badge.svg\" alt=\"Open In Colab\"/></a>"
      ]
    },
    {
      "cell_type": "markdown",
      "metadata": {
        "id": "SvofUimmFb9W"
      },
      "source": [
        "# Introduction\n",
        "\n",
        "In the last notebook we used natural language processing to create a content-based recommendation system for boardgames. To continue, we will now start to use user ratings to develop collaborative-filtering recommendation systems.  To begin we will load in our libraries, functions and data."
      ]
    },
    {
      "cell_type": "code",
      "metadata": {
        "colab": {
          "base_uri": "https://localhost:8080/"
        },
        "id": "V8l4me733pT6",
        "outputId": "9b4a3325-03fa-418a-8792-5f26adc97fc8"
      },
      "source": [
        "from google.colab import drive\n",
        "drive.mount('/content/drive')"
      ],
      "execution_count": null,
      "outputs": [
        {
          "output_type": "stream",
          "text": [
            "Drive already mounted at /content/drive; to attempt to forcibly remount, call drive.mount(\"/content/drive\", force_remount=True).\n"
          ],
          "name": "stdout"
        }
      ]
    },
    {
      "cell_type": "code",
      "metadata": {
        "id": "eUv-sYKbG7ty"
      },
      "source": [
        "import pandas as pd\n",
        "import numpy as np\n",
        "from scipy.sparse import csr_matrix\n",
        "from sklearn.neighbors import NearestNeighbors\n",
        "from sklearn.decomposition import TruncatedSVD\n",
        "from sklearn.model_selection import train_test_split\n",
        "\n",
        "import matplotlib.pyplot as plt\n",
        "import seaborn as sns\n",
        "% matplotlib inline\n",
        "from os import listdir\n",
        "\n",
        "import datetime"
      ],
      "execution_count": null,
      "outputs": []
    },
    {
      "cell_type": "code",
      "metadata": {
        "id": "ug4Wzv7fFl8r"
      },
      "source": [
        "% run /content/drive/MyDrive/CapstoneProject/collaborative_filtering.py"
      ],
      "execution_count": null,
      "outputs": []
    },
    {
      "cell_type": "markdown",
      "metadata": {
        "id": "bxF8DIwTyUUe"
      },
      "source": [
        "Our data for this part of the project consists of the 38 csv files of ratings that we previously scraped.  We will load them now."
      ]
    },
    {
      "cell_type": "code",
      "metadata": {
        "scrolled": true,
        "colab": {
          "base_uri": "https://localhost:8080/",
          "height": 204
        },
        "id": "BTeWL-WHG7ty",
        "outputId": "06e5eeac-aaf2-4551-ad14-6ae0da0cd480"
      },
      "source": [
        "filepaths = [('/content/drive/MyDrive/CapstoneProject/scraped_ratings/' + f) for f in listdir('/content/drive/MyDrive/CapstoneProject/scraped_ratings') if f.endswith('.csv')]\n",
        "reviews = pd.concat([pd.read_csv(filepath, delimiter='\\t', header=None) for filepath in filepaths], axis=0)\n",
        "reviews.columns = ['game_id', 'user', 'rating', 'comment']\n",
        "reviews.head()"
      ],
      "execution_count": null,
      "outputs": [
        {
          "output_type": "execute_result",
          "data": {
            "text/html": [
              "<div>\n",
              "<style scoped>\n",
              "    .dataframe tbody tr th:only-of-type {\n",
              "        vertical-align: middle;\n",
              "    }\n",
              "\n",
              "    .dataframe tbody tr th {\n",
              "        vertical-align: top;\n",
              "    }\n",
              "\n",
              "    .dataframe thead th {\n",
              "        text-align: right;\n",
              "    }\n",
              "</style>\n",
              "<table border=\"1\" class=\"dataframe\">\n",
              "  <thead>\n",
              "    <tr style=\"text-align: right;\">\n",
              "      <th></th>\n",
              "      <th>game_id</th>\n",
              "      <th>user</th>\n",
              "      <th>rating</th>\n",
              "      <th>comment</th>\n",
              "    </tr>\n",
              "  </thead>\n",
              "  <tbody>\n",
              "    <tr>\n",
              "      <th>0</th>\n",
              "      <td>822</td>\n",
              "      <td>rougemacabre</td>\n",
              "      <td>10.0</td>\n",
              "      <td>Very easy rules and quick to pick up. Good for...</td>\n",
              "    </tr>\n",
              "    <tr>\n",
              "      <th>1</th>\n",
              "      <td>822</td>\n",
              "      <td>InvalidLitDepot</td>\n",
              "      <td>10.0</td>\n",
              "      <td>So simple, but so addictive and fun</td>\n",
              "    </tr>\n",
              "    <tr>\n",
              "      <th>2</th>\n",
              "      <td>822</td>\n",
              "      <td>jhilahd</td>\n",
              "      <td>10.0</td>\n",
              "      <td>NaN</td>\n",
              "    </tr>\n",
              "    <tr>\n",
              "      <th>3</th>\n",
              "      <td>822</td>\n",
              "      <td>qwertyalex</td>\n",
              "      <td>10.0</td>\n",
              "      <td>NaN</td>\n",
              "    </tr>\n",
              "    <tr>\n",
              "      <th>4</th>\n",
              "      <td>822</td>\n",
              "      <td>MingStar</td>\n",
              "      <td>10.0</td>\n",
              "      <td>NaN</td>\n",
              "    </tr>\n",
              "  </tbody>\n",
              "</table>\n",
              "</div>"
            ],
            "text/plain": [
              "   game_id  ...                                            comment\n",
              "0      822  ...  Very easy rules and quick to pick up. Good for...\n",
              "1      822  ...                So simple, but so addictive and fun\n",
              "2      822  ...                                                NaN\n",
              "3      822  ...                                                NaN\n",
              "4      822  ...                                                NaN\n",
              "\n",
              "[5 rows x 4 columns]"
            ]
          },
          "metadata": {
            "tags": []
          },
          "execution_count": 4
        }
      ]
    },
    {
      "cell_type": "code",
      "metadata": {
        "colab": {
          "base_uri": "https://localhost:8080/"
        },
        "id": "vV13VfP9G7ty",
        "outputId": "c73f346a-bfc1-4fb4-b967-2d1ff64f02f8"
      },
      "source": [
        "len(reviews)"
      ],
      "execution_count": null,
      "outputs": [
        {
          "output_type": "execute_result",
          "data": {
            "text/plain": [
              "3751793"
            ]
          },
          "metadata": {
            "tags": []
          },
          "execution_count": 5
        }
      ]
    },
    {
      "cell_type": "markdown",
      "metadata": {
        "id": "0ERNUfoAF_Iy"
      },
      "source": [
        "# Data Cleaning\n",
        "\n",
        "Now that we have our data loaded up, we will need to clean it. The first thing we want to do is drop the users who have not rated at least 50 games. By dropping the users who have rated fewer games, we are more likely to achieve a significant result."
      ]
    },
    {
      "cell_type": "code",
      "metadata": {
        "colab": {
          "base_uri": "https://localhost:8080/"
        },
        "id": "jlMGTEifG7tz",
        "outputId": "308172d2-0138-4a79-f1c6-0840f1ac70ad"
      },
      "source": [
        "more_than_50_reviews = reviews[reviews['user'].map(reviews['user'].value_counts()) >= 50]\n",
        "len(more_than_50_reviews)"
      ],
      "execution_count": null,
      "outputs": [
        {
          "output_type": "execute_result",
          "data": {
            "text/plain": [
              "1591118"
            ]
          },
          "metadata": {
            "tags": []
          },
          "execution_count": 6
        }
      ]
    },
    {
      "cell_type": "code",
      "metadata": {
        "colab": {
          "base_uri": "https://localhost:8080/"
        },
        "id": "_WtZNuTSG7tz",
        "outputId": "8fba48d8-90eb-488b-c3f4-bb7de2649fce"
      },
      "source": [
        "more_than_50_reviews.user.value_counts()"
      ],
      "execution_count": null,
      "outputs": [
        {
          "output_type": "execute_result",
          "data": {
            "text/plain": [
              "Tolkana          1200\n",
              "Doel             1198\n",
              "RichardIngram    1027\n",
              "TomVasel          936\n",
              "Walt Mulder       878\n",
              "                 ... \n",
              "zaczaczaczac       50\n",
              "tarrkid            50\n",
              "vakrel             50\n",
              "hunterturtle       50\n",
              "duncanvalley       50\n",
              "Name: user, Length: 16280, dtype: int64"
            ]
          },
          "metadata": {
            "tags": []
          },
          "execution_count": 7
        }
      ]
    },
    {
      "cell_type": "markdown",
      "metadata": {
        "id": "rgqPEIr9zLi0"
      },
      "source": [
        "We started with 2000 reviews for each game, but now that we have dropped about half of our reviews that is likely to have changed. Let's check what our review counts look like for each game and drop the games that don't have at least 200 reviews."
      ]
    },
    {
      "cell_type": "code",
      "metadata": {
        "colab": {
          "base_uri": "https://localhost:8080/"
        },
        "id": "0VBcNwyLJlPJ",
        "outputId": "ef44c93d-844d-4a32-c3b9-071b5f1cef40"
      },
      "source": [
        "more_than_50_reviews.game_id.value_counts()"
      ],
      "execution_count": null,
      "outputs": [
        {
          "output_type": "execute_result",
          "data": {
            "text/plain": [
              "40760     1446\n",
              "38992     1434\n",
              "125       1430\n",
              "34707     1420\n",
              "15290     1417\n",
              "          ... \n",
              "50381      191\n",
              "234190     188\n",
              "230914     187\n",
              "204053     166\n",
              "1927       163\n",
              "Name: game_id, Length: 2000, dtype: int64"
            ]
          },
          "metadata": {
            "tags": []
          },
          "execution_count": 8
        }
      ]
    },
    {
      "cell_type": "code",
      "metadata": {
        "colab": {
          "base_uri": "https://localhost:8080/"
        },
        "id": "kbJ2-NHIJrUM",
        "outputId": "7dfc0e34-3a1d-469b-b94c-544188e35917"
      },
      "source": [
        "more_than_50_reviews = more_than_50_reviews[more_than_50_reviews['game_id'].map(more_than_50_reviews['game_id'].value_counts()) >= 200]\n",
        "len(more_than_50_reviews)"
      ],
      "execution_count": null,
      "outputs": [
        {
          "output_type": "execute_result",
          "data": {
            "text/plain": [
              "1589831"
            ]
          },
          "metadata": {
            "tags": []
          },
          "execution_count": 9
        }
      ]
    },
    {
      "cell_type": "code",
      "metadata": {
        "colab": {
          "base_uri": "https://localhost:8080/"
        },
        "id": "jYB25MMpzfKD",
        "outputId": "7c7f9b5f-b9e4-4cac-804f-507eeae72990"
      },
      "source": [
        "len(more_than_50_reviews.game_id.unique())"
      ],
      "execution_count": null,
      "outputs": [
        {
          "output_type": "execute_result",
          "data": {
            "text/plain": [
              "1993"
            ]
          },
          "metadata": {
            "tags": []
          },
          "execution_count": 10
        }
      ]
    },
    {
      "cell_type": "markdown",
      "metadata": {
        "id": "Z7I6bb-jHW39"
      },
      "source": [
        "We also will not be using the comments on the ratings for this project, so we can drop those as well."
      ]
    },
    {
      "cell_type": "code",
      "metadata": {
        "id": "zVZkdHgBG7tz"
      },
      "source": [
        "more_than_50_reviews = more_than_50_reviews.drop(['comment'], axis=1)"
      ],
      "execution_count": null,
      "outputs": []
    },
    {
      "cell_type": "markdown",
      "metadata": {
        "id": "0IeOhHgoHc7u"
      },
      "source": [
        "Let's check the value counts for our rating column to see how the different ratings are distributed. I expect to have more positive reviews than negative reviews because of our scraping process."
      ]
    },
    {
      "cell_type": "code",
      "metadata": {
        "id": "Y8r5D9-7yY1C",
        "colab": {
          "base_uri": "https://localhost:8080/"
        },
        "outputId": "ec00adf8-6c50-4cd5-c793-d08b8a1b400d"
      },
      "source": [
        "more_than_50_reviews.rating.value_counts()"
      ],
      "execution_count": null,
      "outputs": [
        {
          "output_type": "execute_result",
          "data": {
            "text/plain": [
              "8.0000     391624\n",
              "7.0000     290919\n",
              "9.0000     245330\n",
              "10.0000    157600\n",
              "6.0000     116799\n",
              "            ...  \n",
              "9.5402          1\n",
              "9.5970          1\n",
              "7.5899          1\n",
              "6.6090          1\n",
              "8.2940          1\n",
              "Name: rating, Length: 3445, dtype: int64"
            ]
          },
          "metadata": {
            "tags": []
          },
          "execution_count": 12
        }
      ]
    },
    {
      "cell_type": "markdown",
      "metadata": {
        "id": "TOs7hA6GH6T_"
      },
      "source": [
        "There are some weird decimals here when the ratings should be 1-10. Some of these seem to be aggregates from groups of reviewers. Let's round the values to make them even."
      ]
    },
    {
      "cell_type": "code",
      "metadata": {
        "colab": {
          "base_uri": "https://localhost:8080/"
        },
        "id": "LsFQCltxvfVK",
        "outputId": "f67a196e-dd9b-4c06-9733-a5f3947f7058"
      },
      "source": [
        "more_than_50_reviews.rating = round(more_than_50_reviews.rating, 0)\n",
        "more_than_50_reviews.rating.value_counts()"
      ],
      "execution_count": null,
      "outputs": [
        {
          "output_type": "execute_result",
          "data": {
            "text/plain": [
              "8.0     585013\n",
              "7.0     320551\n",
              "9.0     272587\n",
              "10.0    185075\n",
              "6.0     162965\n",
              "5.0      37848\n",
              "4.0      15125\n",
              "3.0       6347\n",
              "2.0       2863\n",
              "1.0       1457\n",
              "Name: rating, dtype: int64"
            ]
          },
          "metadata": {
            "tags": []
          },
          "execution_count": 13
        }
      ]
    },
    {
      "cell_type": "markdown",
      "metadata": {
        "id": "fZSoVVto0Arx"
      },
      "source": [
        "Next, we will load in our statistics dataframe and retrieve the name and game_id columns. This will be used in some our functions to retrieve recommendations."
      ]
    },
    {
      "cell_type": "code",
      "metadata": {
        "colab": {
          "base_uri": "https://localhost:8080/",
          "height": 204
        },
        "id": "s5y58CXhH65g",
        "outputId": "e7f55c2f-8bd9-4c37-9e3b-e7d50720c2da"
      },
      "source": [
        "game_df = pd.read_pickle('/content/drive/MyDrive/CapstoneProject/games_with_descriptions')\n",
        "game_df = game_df.reset_index().rename(columns={'index':'game_id'})\n",
        "game_df = game_df[['game_id', 'name']]\n",
        "game_df.head()"
      ],
      "execution_count": null,
      "outputs": [
        {
          "output_type": "execute_result",
          "data": {
            "text/html": [
              "<div>\n",
              "<style scoped>\n",
              "    .dataframe tbody tr th:only-of-type {\n",
              "        vertical-align: middle;\n",
              "    }\n",
              "\n",
              "    .dataframe tbody tr th {\n",
              "        vertical-align: top;\n",
              "    }\n",
              "\n",
              "    .dataframe thead th {\n",
              "        text-align: right;\n",
              "    }\n",
              "</style>\n",
              "<table border=\"1\" class=\"dataframe\">\n",
              "  <thead>\n",
              "    <tr style=\"text-align: right;\">\n",
              "      <th></th>\n",
              "      <th>game_id</th>\n",
              "      <th>name</th>\n",
              "    </tr>\n",
              "  </thead>\n",
              "  <tbody>\n",
              "    <tr>\n",
              "      <th>0</th>\n",
              "      <td>1</td>\n",
              "      <td>Die Macher</td>\n",
              "    </tr>\n",
              "    <tr>\n",
              "      <th>1</th>\n",
              "      <td>2</td>\n",
              "      <td>Dragonmaster</td>\n",
              "    </tr>\n",
              "    <tr>\n",
              "      <th>2</th>\n",
              "      <td>3</td>\n",
              "      <td>Samurai</td>\n",
              "    </tr>\n",
              "    <tr>\n",
              "      <th>3</th>\n",
              "      <td>4</td>\n",
              "      <td>Tal der Könige</td>\n",
              "    </tr>\n",
              "    <tr>\n",
              "      <th>4</th>\n",
              "      <td>5</td>\n",
              "      <td>Acquire</td>\n",
              "    </tr>\n",
              "  </tbody>\n",
              "</table>\n",
              "</div>"
            ],
            "text/plain": [
              "   game_id            name\n",
              "0        1      Die Macher\n",
              "1        2    Dragonmaster\n",
              "2        3         Samurai\n",
              "3        4  Tal der Könige\n",
              "4        5         Acquire"
            ]
          },
          "metadata": {
            "tags": []
          },
          "execution_count": 14
        }
      ]
    },
    {
      "cell_type": "markdown",
      "metadata": {
        "id": "ld9do1m80PHa"
      },
      "source": [
        "Next, we will create a pivot table to convert our ratings into a MxN matrix. We will have our user names as column names, our game_ids as our index, and our ratings as values."
      ]
    },
    {
      "cell_type": "code",
      "metadata": {
        "colab": {
          "base_uri": "https://localhost:8080/",
          "height": 335
        },
        "id": "XZfJKZGG_kwp",
        "outputId": "12f0013f-6c23-47fd-e354-23b030cbac7e"
      },
      "source": [
        "reviews_pvt = pd.pivot_table(more_than_50_reviews, values='rating', index='game_id', columns='user')\n",
        "reviews_pvt.head()"
      ],
      "execution_count": null,
      "outputs": [
        {
          "output_type": "execute_result",
          "data": {
            "text/html": [
              "<div>\n",
              "<style scoped>\n",
              "    .dataframe tbody tr th:only-of-type {\n",
              "        vertical-align: middle;\n",
              "    }\n",
              "\n",
              "    .dataframe tbody tr th {\n",
              "        vertical-align: top;\n",
              "    }\n",
              "\n",
              "    .dataframe thead th {\n",
              "        text-align: right;\n",
              "    }\n",
              "</style>\n",
              "<table border=\"1\" class=\"dataframe\">\n",
              "  <thead>\n",
              "    <tr style=\"text-align: right;\">\n",
              "      <th>user</th>\n",
              "      <th>-=Yod@=-</th>\n",
              "      <th>-Johnny-</th>\n",
              "      <th>-mIDE-</th>\n",
              "      <th>0b1_Ita</th>\n",
              "      <th>0ddjob</th>\n",
              "      <th>0hoHj</th>\n",
              "      <th>0xDEADBEEF</th>\n",
              "      <th>1 Family Meeple</th>\n",
              "      <th>1000games</th>\n",
              "      <th>1000rpm</th>\n",
              "      <th>100pcBlade</th>\n",
              "      <th>105JS2687S2003</th>\n",
              "      <th>13walker</th>\n",
              "      <th>144creations</th>\n",
              "      <th>1979 AMC Treo 755p</th>\n",
              "      <th>19jake91</th>\n",
              "      <th>1Aspielerin</th>\n",
              "      <th>1Mmirg</th>\n",
              "      <th>1agerace1</th>\n",
              "      <th>1awesomeguy</th>\n",
              "      <th>1nf1n1ty</th>\n",
              "      <th>1point21gigawatts</th>\n",
              "      <th>1qwerty</th>\n",
              "      <th>20hz20khz</th>\n",
              "      <th>210pasadena</th>\n",
              "      <th>22764636</th>\n",
              "      <th>26october</th>\n",
              "      <th>28green</th>\n",
              "      <th>2bit</th>\n",
              "      <th>2bpencil</th>\n",
              "      <th>2d20</th>\n",
              "      <th>2dTones</th>\n",
              "      <th>2ndPlace</th>\n",
              "      <th>2ombie</th>\n",
              "      <th>33cb</th>\n",
              "      <th>3davoli</th>\n",
              "      <th>3dicebombers</th>\n",
              "      <th>3dragonfly</th>\n",
              "      <th>3ldfilms</th>\n",
              "      <th>42amu</th>\n",
              "      <th>...</th>\n",
              "      <th>zolle001</th>\n",
              "      <th>zollom04</th>\n",
              "      <th>zomar1</th>\n",
              "      <th>zombie plumber</th>\n",
              "      <th>zombie_cataclysm</th>\n",
              "      <th>zombiegod</th>\n",
              "      <th>zomborya</th>\n",
              "      <th>zondo</th>\n",
              "      <th>zontziry</th>\n",
              "      <th>zopie71</th>\n",
              "      <th>zorac</th>\n",
              "      <th>zorrochristian</th>\n",
              "      <th>zosa</th>\n",
              "      <th>zottirgen</th>\n",
              "      <th>zoul0813</th>\n",
              "      <th>zowieso</th>\n",
              "      <th>zrobin</th>\n",
              "      <th>zsknight</th>\n",
              "      <th>zublord</th>\n",
              "      <th>zubor</th>\n",
              "      <th>zuk1958</th>\n",
              "      <th>zulcus</th>\n",
              "      <th>zumba</th>\n",
              "      <th>zumikon</th>\n",
              "      <th>zunnesteke</th>\n",
              "      <th>zunyer</th>\n",
              "      <th>zurita7</th>\n",
              "      <th>zurn</th>\n",
              "      <th>zuxxux</th>\n",
              "      <th>zuzusdad</th>\n",
              "      <th>zweken</th>\n",
              "      <th>zwinky</th>\n",
              "      <th>zwobot</th>\n",
              "      <th>zx80</th>\n",
              "      <th>zybthranger</th>\n",
              "      <th>zydoz</th>\n",
              "      <th>zyklonc</th>\n",
              "      <th>zyrus</th>\n",
              "      <th>zyx0xyz</th>\n",
              "      <th>zztap</th>\n",
              "    </tr>\n",
              "    <tr>\n",
              "      <th>game_id</th>\n",
              "      <th></th>\n",
              "      <th></th>\n",
              "      <th></th>\n",
              "      <th></th>\n",
              "      <th></th>\n",
              "      <th></th>\n",
              "      <th></th>\n",
              "      <th></th>\n",
              "      <th></th>\n",
              "      <th></th>\n",
              "      <th></th>\n",
              "      <th></th>\n",
              "      <th></th>\n",
              "      <th></th>\n",
              "      <th></th>\n",
              "      <th></th>\n",
              "      <th></th>\n",
              "      <th></th>\n",
              "      <th></th>\n",
              "      <th></th>\n",
              "      <th></th>\n",
              "      <th></th>\n",
              "      <th></th>\n",
              "      <th></th>\n",
              "      <th></th>\n",
              "      <th></th>\n",
              "      <th></th>\n",
              "      <th></th>\n",
              "      <th></th>\n",
              "      <th></th>\n",
              "      <th></th>\n",
              "      <th></th>\n",
              "      <th></th>\n",
              "      <th></th>\n",
              "      <th></th>\n",
              "      <th></th>\n",
              "      <th></th>\n",
              "      <th></th>\n",
              "      <th></th>\n",
              "      <th></th>\n",
              "      <th></th>\n",
              "      <th></th>\n",
              "      <th></th>\n",
              "      <th></th>\n",
              "      <th></th>\n",
              "      <th></th>\n",
              "      <th></th>\n",
              "      <th></th>\n",
              "      <th></th>\n",
              "      <th></th>\n",
              "      <th></th>\n",
              "      <th></th>\n",
              "      <th></th>\n",
              "      <th></th>\n",
              "      <th></th>\n",
              "      <th></th>\n",
              "      <th></th>\n",
              "      <th></th>\n",
              "      <th></th>\n",
              "      <th></th>\n",
              "      <th></th>\n",
              "      <th></th>\n",
              "      <th></th>\n",
              "      <th></th>\n",
              "      <th></th>\n",
              "      <th></th>\n",
              "      <th></th>\n",
              "      <th></th>\n",
              "      <th></th>\n",
              "      <th></th>\n",
              "      <th></th>\n",
              "      <th></th>\n",
              "      <th></th>\n",
              "      <th></th>\n",
              "      <th></th>\n",
              "      <th></th>\n",
              "      <th></th>\n",
              "      <th></th>\n",
              "      <th></th>\n",
              "      <th></th>\n",
              "      <th></th>\n",
              "    </tr>\n",
              "  </thead>\n",
              "  <tbody>\n",
              "    <tr>\n",
              "      <th>1</th>\n",
              "      <td>NaN</td>\n",
              "      <td>NaN</td>\n",
              "      <td>NaN</td>\n",
              "      <td>NaN</td>\n",
              "      <td>NaN</td>\n",
              "      <td>10.0</td>\n",
              "      <td>NaN</td>\n",
              "      <td>NaN</td>\n",
              "      <td>NaN</td>\n",
              "      <td>NaN</td>\n",
              "      <td>NaN</td>\n",
              "      <td>NaN</td>\n",
              "      <td>9.0</td>\n",
              "      <td>NaN</td>\n",
              "      <td>NaN</td>\n",
              "      <td>NaN</td>\n",
              "      <td>NaN</td>\n",
              "      <td>NaN</td>\n",
              "      <td>8.0</td>\n",
              "      <td>NaN</td>\n",
              "      <td>NaN</td>\n",
              "      <td>NaN</td>\n",
              "      <td>NaN</td>\n",
              "      <td>NaN</td>\n",
              "      <td>NaN</td>\n",
              "      <td>NaN</td>\n",
              "      <td>NaN</td>\n",
              "      <td>NaN</td>\n",
              "      <td>NaN</td>\n",
              "      <td>NaN</td>\n",
              "      <td>NaN</td>\n",
              "      <td>NaN</td>\n",
              "      <td>NaN</td>\n",
              "      <td>NaN</td>\n",
              "      <td>NaN</td>\n",
              "      <td>NaN</td>\n",
              "      <td>NaN</td>\n",
              "      <td>NaN</td>\n",
              "      <td>NaN</td>\n",
              "      <td>NaN</td>\n",
              "      <td>...</td>\n",
              "      <td>NaN</td>\n",
              "      <td>NaN</td>\n",
              "      <td>NaN</td>\n",
              "      <td>NaN</td>\n",
              "      <td>NaN</td>\n",
              "      <td>NaN</td>\n",
              "      <td>NaN</td>\n",
              "      <td>NaN</td>\n",
              "      <td>NaN</td>\n",
              "      <td>NaN</td>\n",
              "      <td>NaN</td>\n",
              "      <td>NaN</td>\n",
              "      <td>NaN</td>\n",
              "      <td>NaN</td>\n",
              "      <td>NaN</td>\n",
              "      <td>NaN</td>\n",
              "      <td>NaN</td>\n",
              "      <td>NaN</td>\n",
              "      <td>NaN</td>\n",
              "      <td>NaN</td>\n",
              "      <td>NaN</td>\n",
              "      <td>NaN</td>\n",
              "      <td>NaN</td>\n",
              "      <td>NaN</td>\n",
              "      <td>NaN</td>\n",
              "      <td>NaN</td>\n",
              "      <td>NaN</td>\n",
              "      <td>NaN</td>\n",
              "      <td>NaN</td>\n",
              "      <td>NaN</td>\n",
              "      <td>NaN</td>\n",
              "      <td>NaN</td>\n",
              "      <td>NaN</td>\n",
              "      <td>NaN</td>\n",
              "      <td>NaN</td>\n",
              "      <td>NaN</td>\n",
              "      <td>NaN</td>\n",
              "      <td>NaN</td>\n",
              "      <td>9.0</td>\n",
              "      <td>NaN</td>\n",
              "    </tr>\n",
              "    <tr>\n",
              "      <th>3</th>\n",
              "      <td>NaN</td>\n",
              "      <td>NaN</td>\n",
              "      <td>NaN</td>\n",
              "      <td>NaN</td>\n",
              "      <td>NaN</td>\n",
              "      <td>NaN</td>\n",
              "      <td>NaN</td>\n",
              "      <td>NaN</td>\n",
              "      <td>NaN</td>\n",
              "      <td>NaN</td>\n",
              "      <td>NaN</td>\n",
              "      <td>NaN</td>\n",
              "      <td>NaN</td>\n",
              "      <td>NaN</td>\n",
              "      <td>NaN</td>\n",
              "      <td>NaN</td>\n",
              "      <td>NaN</td>\n",
              "      <td>NaN</td>\n",
              "      <td>NaN</td>\n",
              "      <td>NaN</td>\n",
              "      <td>NaN</td>\n",
              "      <td>NaN</td>\n",
              "      <td>NaN</td>\n",
              "      <td>NaN</td>\n",
              "      <td>NaN</td>\n",
              "      <td>NaN</td>\n",
              "      <td>NaN</td>\n",
              "      <td>NaN</td>\n",
              "      <td>NaN</td>\n",
              "      <td>NaN</td>\n",
              "      <td>NaN</td>\n",
              "      <td>NaN</td>\n",
              "      <td>NaN</td>\n",
              "      <td>NaN</td>\n",
              "      <td>NaN</td>\n",
              "      <td>NaN</td>\n",
              "      <td>NaN</td>\n",
              "      <td>NaN</td>\n",
              "      <td>NaN</td>\n",
              "      <td>NaN</td>\n",
              "      <td>...</td>\n",
              "      <td>NaN</td>\n",
              "      <td>NaN</td>\n",
              "      <td>NaN</td>\n",
              "      <td>NaN</td>\n",
              "      <td>NaN</td>\n",
              "      <td>NaN</td>\n",
              "      <td>NaN</td>\n",
              "      <td>NaN</td>\n",
              "      <td>NaN</td>\n",
              "      <td>NaN</td>\n",
              "      <td>NaN</td>\n",
              "      <td>NaN</td>\n",
              "      <td>NaN</td>\n",
              "      <td>NaN</td>\n",
              "      <td>NaN</td>\n",
              "      <td>NaN</td>\n",
              "      <td>NaN</td>\n",
              "      <td>NaN</td>\n",
              "      <td>NaN</td>\n",
              "      <td>9.0</td>\n",
              "      <td>NaN</td>\n",
              "      <td>NaN</td>\n",
              "      <td>NaN</td>\n",
              "      <td>NaN</td>\n",
              "      <td>NaN</td>\n",
              "      <td>NaN</td>\n",
              "      <td>NaN</td>\n",
              "      <td>NaN</td>\n",
              "      <td>9.0</td>\n",
              "      <td>NaN</td>\n",
              "      <td>NaN</td>\n",
              "      <td>NaN</td>\n",
              "      <td>NaN</td>\n",
              "      <td>NaN</td>\n",
              "      <td>NaN</td>\n",
              "      <td>NaN</td>\n",
              "      <td>NaN</td>\n",
              "      <td>NaN</td>\n",
              "      <td>NaN</td>\n",
              "      <td>NaN</td>\n",
              "    </tr>\n",
              "    <tr>\n",
              "      <th>5</th>\n",
              "      <td>NaN</td>\n",
              "      <td>NaN</td>\n",
              "      <td>NaN</td>\n",
              "      <td>NaN</td>\n",
              "      <td>NaN</td>\n",
              "      <td>NaN</td>\n",
              "      <td>NaN</td>\n",
              "      <td>NaN</td>\n",
              "      <td>10.0</td>\n",
              "      <td>NaN</td>\n",
              "      <td>NaN</td>\n",
              "      <td>NaN</td>\n",
              "      <td>NaN</td>\n",
              "      <td>NaN</td>\n",
              "      <td>NaN</td>\n",
              "      <td>NaN</td>\n",
              "      <td>NaN</td>\n",
              "      <td>NaN</td>\n",
              "      <td>NaN</td>\n",
              "      <td>NaN</td>\n",
              "      <td>NaN</td>\n",
              "      <td>NaN</td>\n",
              "      <td>NaN</td>\n",
              "      <td>NaN</td>\n",
              "      <td>NaN</td>\n",
              "      <td>NaN</td>\n",
              "      <td>NaN</td>\n",
              "      <td>NaN</td>\n",
              "      <td>NaN</td>\n",
              "      <td>NaN</td>\n",
              "      <td>NaN</td>\n",
              "      <td>NaN</td>\n",
              "      <td>10.0</td>\n",
              "      <td>NaN</td>\n",
              "      <td>NaN</td>\n",
              "      <td>NaN</td>\n",
              "      <td>NaN</td>\n",
              "      <td>NaN</td>\n",
              "      <td>NaN</td>\n",
              "      <td>NaN</td>\n",
              "      <td>...</td>\n",
              "      <td>NaN</td>\n",
              "      <td>NaN</td>\n",
              "      <td>NaN</td>\n",
              "      <td>NaN</td>\n",
              "      <td>NaN</td>\n",
              "      <td>NaN</td>\n",
              "      <td>NaN</td>\n",
              "      <td>NaN</td>\n",
              "      <td>NaN</td>\n",
              "      <td>NaN</td>\n",
              "      <td>NaN</td>\n",
              "      <td>NaN</td>\n",
              "      <td>NaN</td>\n",
              "      <td>NaN</td>\n",
              "      <td>NaN</td>\n",
              "      <td>NaN</td>\n",
              "      <td>NaN</td>\n",
              "      <td>NaN</td>\n",
              "      <td>9.0</td>\n",
              "      <td>NaN</td>\n",
              "      <td>NaN</td>\n",
              "      <td>NaN</td>\n",
              "      <td>NaN</td>\n",
              "      <td>NaN</td>\n",
              "      <td>NaN</td>\n",
              "      <td>NaN</td>\n",
              "      <td>NaN</td>\n",
              "      <td>NaN</td>\n",
              "      <td>NaN</td>\n",
              "      <td>NaN</td>\n",
              "      <td>NaN</td>\n",
              "      <td>NaN</td>\n",
              "      <td>NaN</td>\n",
              "      <td>NaN</td>\n",
              "      <td>NaN</td>\n",
              "      <td>9.0</td>\n",
              "      <td>NaN</td>\n",
              "      <td>NaN</td>\n",
              "      <td>NaN</td>\n",
              "      <td>NaN</td>\n",
              "    </tr>\n",
              "    <tr>\n",
              "      <th>7</th>\n",
              "      <td>8.0</td>\n",
              "      <td>NaN</td>\n",
              "      <td>NaN</td>\n",
              "      <td>NaN</td>\n",
              "      <td>NaN</td>\n",
              "      <td>NaN</td>\n",
              "      <td>NaN</td>\n",
              "      <td>NaN</td>\n",
              "      <td>NaN</td>\n",
              "      <td>NaN</td>\n",
              "      <td>NaN</td>\n",
              "      <td>NaN</td>\n",
              "      <td>NaN</td>\n",
              "      <td>NaN</td>\n",
              "      <td>NaN</td>\n",
              "      <td>NaN</td>\n",
              "      <td>7.0</td>\n",
              "      <td>NaN</td>\n",
              "      <td>NaN</td>\n",
              "      <td>NaN</td>\n",
              "      <td>NaN</td>\n",
              "      <td>NaN</td>\n",
              "      <td>10.0</td>\n",
              "      <td>NaN</td>\n",
              "      <td>NaN</td>\n",
              "      <td>NaN</td>\n",
              "      <td>NaN</td>\n",
              "      <td>NaN</td>\n",
              "      <td>NaN</td>\n",
              "      <td>NaN</td>\n",
              "      <td>NaN</td>\n",
              "      <td>NaN</td>\n",
              "      <td>NaN</td>\n",
              "      <td>NaN</td>\n",
              "      <td>NaN</td>\n",
              "      <td>NaN</td>\n",
              "      <td>NaN</td>\n",
              "      <td>NaN</td>\n",
              "      <td>NaN</td>\n",
              "      <td>NaN</td>\n",
              "      <td>...</td>\n",
              "      <td>NaN</td>\n",
              "      <td>NaN</td>\n",
              "      <td>NaN</td>\n",
              "      <td>NaN</td>\n",
              "      <td>NaN</td>\n",
              "      <td>NaN</td>\n",
              "      <td>NaN</td>\n",
              "      <td>NaN</td>\n",
              "      <td>NaN</td>\n",
              "      <td>NaN</td>\n",
              "      <td>NaN</td>\n",
              "      <td>NaN</td>\n",
              "      <td>NaN</td>\n",
              "      <td>NaN</td>\n",
              "      <td>8.0</td>\n",
              "      <td>NaN</td>\n",
              "      <td>NaN</td>\n",
              "      <td>NaN</td>\n",
              "      <td>6.0</td>\n",
              "      <td>NaN</td>\n",
              "      <td>7.0</td>\n",
              "      <td>NaN</td>\n",
              "      <td>NaN</td>\n",
              "      <td>8.0</td>\n",
              "      <td>NaN</td>\n",
              "      <td>NaN</td>\n",
              "      <td>NaN</td>\n",
              "      <td>NaN</td>\n",
              "      <td>NaN</td>\n",
              "      <td>NaN</td>\n",
              "      <td>NaN</td>\n",
              "      <td>NaN</td>\n",
              "      <td>NaN</td>\n",
              "      <td>NaN</td>\n",
              "      <td>NaN</td>\n",
              "      <td>7.0</td>\n",
              "      <td>NaN</td>\n",
              "      <td>NaN</td>\n",
              "      <td>NaN</td>\n",
              "      <td>NaN</td>\n",
              "    </tr>\n",
              "    <tr>\n",
              "      <th>10</th>\n",
              "      <td>NaN</td>\n",
              "      <td>NaN</td>\n",
              "      <td>NaN</td>\n",
              "      <td>NaN</td>\n",
              "      <td>NaN</td>\n",
              "      <td>NaN</td>\n",
              "      <td>NaN</td>\n",
              "      <td>NaN</td>\n",
              "      <td>8.0</td>\n",
              "      <td>NaN</td>\n",
              "      <td>8.0</td>\n",
              "      <td>NaN</td>\n",
              "      <td>NaN</td>\n",
              "      <td>NaN</td>\n",
              "      <td>NaN</td>\n",
              "      <td>NaN</td>\n",
              "      <td>NaN</td>\n",
              "      <td>NaN</td>\n",
              "      <td>NaN</td>\n",
              "      <td>NaN</td>\n",
              "      <td>NaN</td>\n",
              "      <td>NaN</td>\n",
              "      <td>NaN</td>\n",
              "      <td>NaN</td>\n",
              "      <td>NaN</td>\n",
              "      <td>NaN</td>\n",
              "      <td>8.0</td>\n",
              "      <td>NaN</td>\n",
              "      <td>NaN</td>\n",
              "      <td>NaN</td>\n",
              "      <td>NaN</td>\n",
              "      <td>NaN</td>\n",
              "      <td>NaN</td>\n",
              "      <td>NaN</td>\n",
              "      <td>NaN</td>\n",
              "      <td>NaN</td>\n",
              "      <td>NaN</td>\n",
              "      <td>NaN</td>\n",
              "      <td>NaN</td>\n",
              "      <td>NaN</td>\n",
              "      <td>...</td>\n",
              "      <td>NaN</td>\n",
              "      <td>NaN</td>\n",
              "      <td>NaN</td>\n",
              "      <td>NaN</td>\n",
              "      <td>NaN</td>\n",
              "      <td>NaN</td>\n",
              "      <td>NaN</td>\n",
              "      <td>NaN</td>\n",
              "      <td>NaN</td>\n",
              "      <td>NaN</td>\n",
              "      <td>NaN</td>\n",
              "      <td>NaN</td>\n",
              "      <td>NaN</td>\n",
              "      <td>NaN</td>\n",
              "      <td>NaN</td>\n",
              "      <td>NaN</td>\n",
              "      <td>NaN</td>\n",
              "      <td>NaN</td>\n",
              "      <td>8.0</td>\n",
              "      <td>NaN</td>\n",
              "      <td>NaN</td>\n",
              "      <td>NaN</td>\n",
              "      <td>NaN</td>\n",
              "      <td>NaN</td>\n",
              "      <td>NaN</td>\n",
              "      <td>NaN</td>\n",
              "      <td>NaN</td>\n",
              "      <td>NaN</td>\n",
              "      <td>NaN</td>\n",
              "      <td>NaN</td>\n",
              "      <td>NaN</td>\n",
              "      <td>NaN</td>\n",
              "      <td>NaN</td>\n",
              "      <td>8.0</td>\n",
              "      <td>NaN</td>\n",
              "      <td>9.0</td>\n",
              "      <td>NaN</td>\n",
              "      <td>NaN</td>\n",
              "      <td>NaN</td>\n",
              "      <td>NaN</td>\n",
              "    </tr>\n",
              "  </tbody>\n",
              "</table>\n",
              "<p>5 rows × 16280 columns</p>\n",
              "</div>"
            ],
            "text/plain": [
              "user     -=Yod@=-  -Johnny-  -mIDE-  0b1_Ita  ...  zyklonc  zyrus  zyx0xyz  zztap\n",
              "game_id                                       ...                                \n",
              "1             NaN       NaN     NaN      NaN  ...      NaN    NaN      9.0    NaN\n",
              "3             NaN       NaN     NaN      NaN  ...      NaN    NaN      NaN    NaN\n",
              "5             NaN       NaN     NaN      NaN  ...      NaN    NaN      NaN    NaN\n",
              "7             8.0       NaN     NaN      NaN  ...      NaN    NaN      NaN    NaN\n",
              "10            NaN       NaN     NaN      NaN  ...      NaN    NaN      NaN    NaN\n",
              "\n",
              "[5 rows x 16280 columns]"
            ]
          },
          "metadata": {
            "tags": []
          },
          "execution_count": 15
        }
      ]
    },
    {
      "cell_type": "markdown",
      "metadata": {
        "id": "RmJUhvCc0iH8"
      },
      "source": [
        "I'm going to create a copy of the pivot table and reset the index. This will allow us to more easily access the pivot table moving forward. We will also fill our null values now with zeroes and convert our user names to user_ids."
      ]
    },
    {
      "cell_type": "code",
      "metadata": {
        "colab": {
          "base_uri": "https://localhost:8080/",
          "height": 304
        },
        "id": "ZAFsydA1EXbI",
        "outputId": "5962189a-44ec-46ac-9de4-fe2914ca4cc4"
      },
      "source": [
        "game_id_pvt = reviews_pvt.reset_index()\n",
        "game_id_pvt.head()"
      ],
      "execution_count": null,
      "outputs": [
        {
          "output_type": "execute_result",
          "data": {
            "text/html": [
              "<div>\n",
              "<style scoped>\n",
              "    .dataframe tbody tr th:only-of-type {\n",
              "        vertical-align: middle;\n",
              "    }\n",
              "\n",
              "    .dataframe tbody tr th {\n",
              "        vertical-align: top;\n",
              "    }\n",
              "\n",
              "    .dataframe thead th {\n",
              "        text-align: right;\n",
              "    }\n",
              "</style>\n",
              "<table border=\"1\" class=\"dataframe\">\n",
              "  <thead>\n",
              "    <tr style=\"text-align: right;\">\n",
              "      <th>user</th>\n",
              "      <th>game_id</th>\n",
              "      <th>-=Yod@=-</th>\n",
              "      <th>-Johnny-</th>\n",
              "      <th>-mIDE-</th>\n",
              "      <th>0b1_Ita</th>\n",
              "      <th>0ddjob</th>\n",
              "      <th>0hoHj</th>\n",
              "      <th>0xDEADBEEF</th>\n",
              "      <th>1 Family Meeple</th>\n",
              "      <th>1000games</th>\n",
              "      <th>1000rpm</th>\n",
              "      <th>100pcBlade</th>\n",
              "      <th>105JS2687S2003</th>\n",
              "      <th>13walker</th>\n",
              "      <th>144creations</th>\n",
              "      <th>1979 AMC Treo 755p</th>\n",
              "      <th>19jake91</th>\n",
              "      <th>1Aspielerin</th>\n",
              "      <th>1Mmirg</th>\n",
              "      <th>1agerace1</th>\n",
              "      <th>1awesomeguy</th>\n",
              "      <th>1nf1n1ty</th>\n",
              "      <th>1point21gigawatts</th>\n",
              "      <th>1qwerty</th>\n",
              "      <th>20hz20khz</th>\n",
              "      <th>210pasadena</th>\n",
              "      <th>22764636</th>\n",
              "      <th>26october</th>\n",
              "      <th>28green</th>\n",
              "      <th>2bit</th>\n",
              "      <th>2bpencil</th>\n",
              "      <th>2d20</th>\n",
              "      <th>2dTones</th>\n",
              "      <th>2ndPlace</th>\n",
              "      <th>2ombie</th>\n",
              "      <th>33cb</th>\n",
              "      <th>3davoli</th>\n",
              "      <th>3dicebombers</th>\n",
              "      <th>3dragonfly</th>\n",
              "      <th>3ldfilms</th>\n",
              "      <th>...</th>\n",
              "      <th>zolle001</th>\n",
              "      <th>zollom04</th>\n",
              "      <th>zomar1</th>\n",
              "      <th>zombie plumber</th>\n",
              "      <th>zombie_cataclysm</th>\n",
              "      <th>zombiegod</th>\n",
              "      <th>zomborya</th>\n",
              "      <th>zondo</th>\n",
              "      <th>zontziry</th>\n",
              "      <th>zopie71</th>\n",
              "      <th>zorac</th>\n",
              "      <th>zorrochristian</th>\n",
              "      <th>zosa</th>\n",
              "      <th>zottirgen</th>\n",
              "      <th>zoul0813</th>\n",
              "      <th>zowieso</th>\n",
              "      <th>zrobin</th>\n",
              "      <th>zsknight</th>\n",
              "      <th>zublord</th>\n",
              "      <th>zubor</th>\n",
              "      <th>zuk1958</th>\n",
              "      <th>zulcus</th>\n",
              "      <th>zumba</th>\n",
              "      <th>zumikon</th>\n",
              "      <th>zunnesteke</th>\n",
              "      <th>zunyer</th>\n",
              "      <th>zurita7</th>\n",
              "      <th>zurn</th>\n",
              "      <th>zuxxux</th>\n",
              "      <th>zuzusdad</th>\n",
              "      <th>zweken</th>\n",
              "      <th>zwinky</th>\n",
              "      <th>zwobot</th>\n",
              "      <th>zx80</th>\n",
              "      <th>zybthranger</th>\n",
              "      <th>zydoz</th>\n",
              "      <th>zyklonc</th>\n",
              "      <th>zyrus</th>\n",
              "      <th>zyx0xyz</th>\n",
              "      <th>zztap</th>\n",
              "    </tr>\n",
              "  </thead>\n",
              "  <tbody>\n",
              "    <tr>\n",
              "      <th>0</th>\n",
              "      <td>1</td>\n",
              "      <td>NaN</td>\n",
              "      <td>NaN</td>\n",
              "      <td>NaN</td>\n",
              "      <td>NaN</td>\n",
              "      <td>NaN</td>\n",
              "      <td>10.0</td>\n",
              "      <td>NaN</td>\n",
              "      <td>NaN</td>\n",
              "      <td>NaN</td>\n",
              "      <td>NaN</td>\n",
              "      <td>NaN</td>\n",
              "      <td>NaN</td>\n",
              "      <td>9.0</td>\n",
              "      <td>NaN</td>\n",
              "      <td>NaN</td>\n",
              "      <td>NaN</td>\n",
              "      <td>NaN</td>\n",
              "      <td>NaN</td>\n",
              "      <td>8.0</td>\n",
              "      <td>NaN</td>\n",
              "      <td>NaN</td>\n",
              "      <td>NaN</td>\n",
              "      <td>NaN</td>\n",
              "      <td>NaN</td>\n",
              "      <td>NaN</td>\n",
              "      <td>NaN</td>\n",
              "      <td>NaN</td>\n",
              "      <td>NaN</td>\n",
              "      <td>NaN</td>\n",
              "      <td>NaN</td>\n",
              "      <td>NaN</td>\n",
              "      <td>NaN</td>\n",
              "      <td>NaN</td>\n",
              "      <td>NaN</td>\n",
              "      <td>NaN</td>\n",
              "      <td>NaN</td>\n",
              "      <td>NaN</td>\n",
              "      <td>NaN</td>\n",
              "      <td>NaN</td>\n",
              "      <td>...</td>\n",
              "      <td>NaN</td>\n",
              "      <td>NaN</td>\n",
              "      <td>NaN</td>\n",
              "      <td>NaN</td>\n",
              "      <td>NaN</td>\n",
              "      <td>NaN</td>\n",
              "      <td>NaN</td>\n",
              "      <td>NaN</td>\n",
              "      <td>NaN</td>\n",
              "      <td>NaN</td>\n",
              "      <td>NaN</td>\n",
              "      <td>NaN</td>\n",
              "      <td>NaN</td>\n",
              "      <td>NaN</td>\n",
              "      <td>NaN</td>\n",
              "      <td>NaN</td>\n",
              "      <td>NaN</td>\n",
              "      <td>NaN</td>\n",
              "      <td>NaN</td>\n",
              "      <td>NaN</td>\n",
              "      <td>NaN</td>\n",
              "      <td>NaN</td>\n",
              "      <td>NaN</td>\n",
              "      <td>NaN</td>\n",
              "      <td>NaN</td>\n",
              "      <td>NaN</td>\n",
              "      <td>NaN</td>\n",
              "      <td>NaN</td>\n",
              "      <td>NaN</td>\n",
              "      <td>NaN</td>\n",
              "      <td>NaN</td>\n",
              "      <td>NaN</td>\n",
              "      <td>NaN</td>\n",
              "      <td>NaN</td>\n",
              "      <td>NaN</td>\n",
              "      <td>NaN</td>\n",
              "      <td>NaN</td>\n",
              "      <td>NaN</td>\n",
              "      <td>9.0</td>\n",
              "      <td>NaN</td>\n",
              "    </tr>\n",
              "    <tr>\n",
              "      <th>1</th>\n",
              "      <td>3</td>\n",
              "      <td>NaN</td>\n",
              "      <td>NaN</td>\n",
              "      <td>NaN</td>\n",
              "      <td>NaN</td>\n",
              "      <td>NaN</td>\n",
              "      <td>NaN</td>\n",
              "      <td>NaN</td>\n",
              "      <td>NaN</td>\n",
              "      <td>NaN</td>\n",
              "      <td>NaN</td>\n",
              "      <td>NaN</td>\n",
              "      <td>NaN</td>\n",
              "      <td>NaN</td>\n",
              "      <td>NaN</td>\n",
              "      <td>NaN</td>\n",
              "      <td>NaN</td>\n",
              "      <td>NaN</td>\n",
              "      <td>NaN</td>\n",
              "      <td>NaN</td>\n",
              "      <td>NaN</td>\n",
              "      <td>NaN</td>\n",
              "      <td>NaN</td>\n",
              "      <td>NaN</td>\n",
              "      <td>NaN</td>\n",
              "      <td>NaN</td>\n",
              "      <td>NaN</td>\n",
              "      <td>NaN</td>\n",
              "      <td>NaN</td>\n",
              "      <td>NaN</td>\n",
              "      <td>NaN</td>\n",
              "      <td>NaN</td>\n",
              "      <td>NaN</td>\n",
              "      <td>NaN</td>\n",
              "      <td>NaN</td>\n",
              "      <td>NaN</td>\n",
              "      <td>NaN</td>\n",
              "      <td>NaN</td>\n",
              "      <td>NaN</td>\n",
              "      <td>NaN</td>\n",
              "      <td>...</td>\n",
              "      <td>NaN</td>\n",
              "      <td>NaN</td>\n",
              "      <td>NaN</td>\n",
              "      <td>NaN</td>\n",
              "      <td>NaN</td>\n",
              "      <td>NaN</td>\n",
              "      <td>NaN</td>\n",
              "      <td>NaN</td>\n",
              "      <td>NaN</td>\n",
              "      <td>NaN</td>\n",
              "      <td>NaN</td>\n",
              "      <td>NaN</td>\n",
              "      <td>NaN</td>\n",
              "      <td>NaN</td>\n",
              "      <td>NaN</td>\n",
              "      <td>NaN</td>\n",
              "      <td>NaN</td>\n",
              "      <td>NaN</td>\n",
              "      <td>NaN</td>\n",
              "      <td>9.0</td>\n",
              "      <td>NaN</td>\n",
              "      <td>NaN</td>\n",
              "      <td>NaN</td>\n",
              "      <td>NaN</td>\n",
              "      <td>NaN</td>\n",
              "      <td>NaN</td>\n",
              "      <td>NaN</td>\n",
              "      <td>NaN</td>\n",
              "      <td>9.0</td>\n",
              "      <td>NaN</td>\n",
              "      <td>NaN</td>\n",
              "      <td>NaN</td>\n",
              "      <td>NaN</td>\n",
              "      <td>NaN</td>\n",
              "      <td>NaN</td>\n",
              "      <td>NaN</td>\n",
              "      <td>NaN</td>\n",
              "      <td>NaN</td>\n",
              "      <td>NaN</td>\n",
              "      <td>NaN</td>\n",
              "    </tr>\n",
              "    <tr>\n",
              "      <th>2</th>\n",
              "      <td>5</td>\n",
              "      <td>NaN</td>\n",
              "      <td>NaN</td>\n",
              "      <td>NaN</td>\n",
              "      <td>NaN</td>\n",
              "      <td>NaN</td>\n",
              "      <td>NaN</td>\n",
              "      <td>NaN</td>\n",
              "      <td>NaN</td>\n",
              "      <td>10.0</td>\n",
              "      <td>NaN</td>\n",
              "      <td>NaN</td>\n",
              "      <td>NaN</td>\n",
              "      <td>NaN</td>\n",
              "      <td>NaN</td>\n",
              "      <td>NaN</td>\n",
              "      <td>NaN</td>\n",
              "      <td>NaN</td>\n",
              "      <td>NaN</td>\n",
              "      <td>NaN</td>\n",
              "      <td>NaN</td>\n",
              "      <td>NaN</td>\n",
              "      <td>NaN</td>\n",
              "      <td>NaN</td>\n",
              "      <td>NaN</td>\n",
              "      <td>NaN</td>\n",
              "      <td>NaN</td>\n",
              "      <td>NaN</td>\n",
              "      <td>NaN</td>\n",
              "      <td>NaN</td>\n",
              "      <td>NaN</td>\n",
              "      <td>NaN</td>\n",
              "      <td>NaN</td>\n",
              "      <td>10.0</td>\n",
              "      <td>NaN</td>\n",
              "      <td>NaN</td>\n",
              "      <td>NaN</td>\n",
              "      <td>NaN</td>\n",
              "      <td>NaN</td>\n",
              "      <td>NaN</td>\n",
              "      <td>...</td>\n",
              "      <td>NaN</td>\n",
              "      <td>NaN</td>\n",
              "      <td>NaN</td>\n",
              "      <td>NaN</td>\n",
              "      <td>NaN</td>\n",
              "      <td>NaN</td>\n",
              "      <td>NaN</td>\n",
              "      <td>NaN</td>\n",
              "      <td>NaN</td>\n",
              "      <td>NaN</td>\n",
              "      <td>NaN</td>\n",
              "      <td>NaN</td>\n",
              "      <td>NaN</td>\n",
              "      <td>NaN</td>\n",
              "      <td>NaN</td>\n",
              "      <td>NaN</td>\n",
              "      <td>NaN</td>\n",
              "      <td>NaN</td>\n",
              "      <td>9.0</td>\n",
              "      <td>NaN</td>\n",
              "      <td>NaN</td>\n",
              "      <td>NaN</td>\n",
              "      <td>NaN</td>\n",
              "      <td>NaN</td>\n",
              "      <td>NaN</td>\n",
              "      <td>NaN</td>\n",
              "      <td>NaN</td>\n",
              "      <td>NaN</td>\n",
              "      <td>NaN</td>\n",
              "      <td>NaN</td>\n",
              "      <td>NaN</td>\n",
              "      <td>NaN</td>\n",
              "      <td>NaN</td>\n",
              "      <td>NaN</td>\n",
              "      <td>NaN</td>\n",
              "      <td>9.0</td>\n",
              "      <td>NaN</td>\n",
              "      <td>NaN</td>\n",
              "      <td>NaN</td>\n",
              "      <td>NaN</td>\n",
              "    </tr>\n",
              "    <tr>\n",
              "      <th>3</th>\n",
              "      <td>7</td>\n",
              "      <td>8.0</td>\n",
              "      <td>NaN</td>\n",
              "      <td>NaN</td>\n",
              "      <td>NaN</td>\n",
              "      <td>NaN</td>\n",
              "      <td>NaN</td>\n",
              "      <td>NaN</td>\n",
              "      <td>NaN</td>\n",
              "      <td>NaN</td>\n",
              "      <td>NaN</td>\n",
              "      <td>NaN</td>\n",
              "      <td>NaN</td>\n",
              "      <td>NaN</td>\n",
              "      <td>NaN</td>\n",
              "      <td>NaN</td>\n",
              "      <td>NaN</td>\n",
              "      <td>7.0</td>\n",
              "      <td>NaN</td>\n",
              "      <td>NaN</td>\n",
              "      <td>NaN</td>\n",
              "      <td>NaN</td>\n",
              "      <td>NaN</td>\n",
              "      <td>10.0</td>\n",
              "      <td>NaN</td>\n",
              "      <td>NaN</td>\n",
              "      <td>NaN</td>\n",
              "      <td>NaN</td>\n",
              "      <td>NaN</td>\n",
              "      <td>NaN</td>\n",
              "      <td>NaN</td>\n",
              "      <td>NaN</td>\n",
              "      <td>NaN</td>\n",
              "      <td>NaN</td>\n",
              "      <td>NaN</td>\n",
              "      <td>NaN</td>\n",
              "      <td>NaN</td>\n",
              "      <td>NaN</td>\n",
              "      <td>NaN</td>\n",
              "      <td>NaN</td>\n",
              "      <td>...</td>\n",
              "      <td>NaN</td>\n",
              "      <td>NaN</td>\n",
              "      <td>NaN</td>\n",
              "      <td>NaN</td>\n",
              "      <td>NaN</td>\n",
              "      <td>NaN</td>\n",
              "      <td>NaN</td>\n",
              "      <td>NaN</td>\n",
              "      <td>NaN</td>\n",
              "      <td>NaN</td>\n",
              "      <td>NaN</td>\n",
              "      <td>NaN</td>\n",
              "      <td>NaN</td>\n",
              "      <td>NaN</td>\n",
              "      <td>8.0</td>\n",
              "      <td>NaN</td>\n",
              "      <td>NaN</td>\n",
              "      <td>NaN</td>\n",
              "      <td>6.0</td>\n",
              "      <td>NaN</td>\n",
              "      <td>7.0</td>\n",
              "      <td>NaN</td>\n",
              "      <td>NaN</td>\n",
              "      <td>8.0</td>\n",
              "      <td>NaN</td>\n",
              "      <td>NaN</td>\n",
              "      <td>NaN</td>\n",
              "      <td>NaN</td>\n",
              "      <td>NaN</td>\n",
              "      <td>NaN</td>\n",
              "      <td>NaN</td>\n",
              "      <td>NaN</td>\n",
              "      <td>NaN</td>\n",
              "      <td>NaN</td>\n",
              "      <td>NaN</td>\n",
              "      <td>7.0</td>\n",
              "      <td>NaN</td>\n",
              "      <td>NaN</td>\n",
              "      <td>NaN</td>\n",
              "      <td>NaN</td>\n",
              "    </tr>\n",
              "    <tr>\n",
              "      <th>4</th>\n",
              "      <td>10</td>\n",
              "      <td>NaN</td>\n",
              "      <td>NaN</td>\n",
              "      <td>NaN</td>\n",
              "      <td>NaN</td>\n",
              "      <td>NaN</td>\n",
              "      <td>NaN</td>\n",
              "      <td>NaN</td>\n",
              "      <td>NaN</td>\n",
              "      <td>8.0</td>\n",
              "      <td>NaN</td>\n",
              "      <td>8.0</td>\n",
              "      <td>NaN</td>\n",
              "      <td>NaN</td>\n",
              "      <td>NaN</td>\n",
              "      <td>NaN</td>\n",
              "      <td>NaN</td>\n",
              "      <td>NaN</td>\n",
              "      <td>NaN</td>\n",
              "      <td>NaN</td>\n",
              "      <td>NaN</td>\n",
              "      <td>NaN</td>\n",
              "      <td>NaN</td>\n",
              "      <td>NaN</td>\n",
              "      <td>NaN</td>\n",
              "      <td>NaN</td>\n",
              "      <td>NaN</td>\n",
              "      <td>8.0</td>\n",
              "      <td>NaN</td>\n",
              "      <td>NaN</td>\n",
              "      <td>NaN</td>\n",
              "      <td>NaN</td>\n",
              "      <td>NaN</td>\n",
              "      <td>NaN</td>\n",
              "      <td>NaN</td>\n",
              "      <td>NaN</td>\n",
              "      <td>NaN</td>\n",
              "      <td>NaN</td>\n",
              "      <td>NaN</td>\n",
              "      <td>NaN</td>\n",
              "      <td>...</td>\n",
              "      <td>NaN</td>\n",
              "      <td>NaN</td>\n",
              "      <td>NaN</td>\n",
              "      <td>NaN</td>\n",
              "      <td>NaN</td>\n",
              "      <td>NaN</td>\n",
              "      <td>NaN</td>\n",
              "      <td>NaN</td>\n",
              "      <td>NaN</td>\n",
              "      <td>NaN</td>\n",
              "      <td>NaN</td>\n",
              "      <td>NaN</td>\n",
              "      <td>NaN</td>\n",
              "      <td>NaN</td>\n",
              "      <td>NaN</td>\n",
              "      <td>NaN</td>\n",
              "      <td>NaN</td>\n",
              "      <td>NaN</td>\n",
              "      <td>8.0</td>\n",
              "      <td>NaN</td>\n",
              "      <td>NaN</td>\n",
              "      <td>NaN</td>\n",
              "      <td>NaN</td>\n",
              "      <td>NaN</td>\n",
              "      <td>NaN</td>\n",
              "      <td>NaN</td>\n",
              "      <td>NaN</td>\n",
              "      <td>NaN</td>\n",
              "      <td>NaN</td>\n",
              "      <td>NaN</td>\n",
              "      <td>NaN</td>\n",
              "      <td>NaN</td>\n",
              "      <td>NaN</td>\n",
              "      <td>8.0</td>\n",
              "      <td>NaN</td>\n",
              "      <td>9.0</td>\n",
              "      <td>NaN</td>\n",
              "      <td>NaN</td>\n",
              "      <td>NaN</td>\n",
              "      <td>NaN</td>\n",
              "    </tr>\n",
              "  </tbody>\n",
              "</table>\n",
              "<p>5 rows × 16281 columns</p>\n",
              "</div>"
            ],
            "text/plain": [
              "user  game_id  -=Yod@=-  -Johnny-  -mIDE-  ...  zyklonc  zyrus  zyx0xyz  zztap\n",
              "0           1       NaN       NaN     NaN  ...      NaN    NaN      9.0    NaN\n",
              "1           3       NaN       NaN     NaN  ...      NaN    NaN      NaN    NaN\n",
              "2           5       NaN       NaN     NaN  ...      NaN    NaN      NaN    NaN\n",
              "3           7       8.0       NaN     NaN  ...      NaN    NaN      NaN    NaN\n",
              "4          10       NaN       NaN     NaN  ...      NaN    NaN      NaN    NaN\n",
              "\n",
              "[5 rows x 16281 columns]"
            ]
          },
          "metadata": {
            "tags": []
          },
          "execution_count": 16
        }
      ]
    },
    {
      "cell_type": "code",
      "metadata": {
        "colab": {
          "base_uri": "https://localhost:8080/",
          "height": 284
        },
        "id": "ttQJqbK3zMrj",
        "outputId": "bee2089d-0c79-4d21-ba37-193f0f3971c3"
      },
      "source": [
        "pvt_filled = reviews_pvt.fillna(0)\n",
        "user_ids = [(i+1) for i in range(len(more_than_50_reviews.user.unique()))]\n",
        "pvt_filled.columns = user_ids\n",
        "pvt_filled.head()"
      ],
      "execution_count": null,
      "outputs": [
        {
          "output_type": "execute_result",
          "data": {
            "text/html": [
              "<div>\n",
              "<style scoped>\n",
              "    .dataframe tbody tr th:only-of-type {\n",
              "        vertical-align: middle;\n",
              "    }\n",
              "\n",
              "    .dataframe tbody tr th {\n",
              "        vertical-align: top;\n",
              "    }\n",
              "\n",
              "    .dataframe thead th {\n",
              "        text-align: right;\n",
              "    }\n",
              "</style>\n",
              "<table border=\"1\" class=\"dataframe\">\n",
              "  <thead>\n",
              "    <tr style=\"text-align: right;\">\n",
              "      <th></th>\n",
              "      <th>1</th>\n",
              "      <th>2</th>\n",
              "      <th>3</th>\n",
              "      <th>4</th>\n",
              "      <th>5</th>\n",
              "      <th>6</th>\n",
              "      <th>7</th>\n",
              "      <th>8</th>\n",
              "      <th>9</th>\n",
              "      <th>10</th>\n",
              "      <th>11</th>\n",
              "      <th>12</th>\n",
              "      <th>13</th>\n",
              "      <th>14</th>\n",
              "      <th>15</th>\n",
              "      <th>16</th>\n",
              "      <th>17</th>\n",
              "      <th>18</th>\n",
              "      <th>19</th>\n",
              "      <th>20</th>\n",
              "      <th>21</th>\n",
              "      <th>22</th>\n",
              "      <th>23</th>\n",
              "      <th>24</th>\n",
              "      <th>25</th>\n",
              "      <th>26</th>\n",
              "      <th>27</th>\n",
              "      <th>28</th>\n",
              "      <th>29</th>\n",
              "      <th>30</th>\n",
              "      <th>31</th>\n",
              "      <th>32</th>\n",
              "      <th>33</th>\n",
              "      <th>34</th>\n",
              "      <th>35</th>\n",
              "      <th>36</th>\n",
              "      <th>37</th>\n",
              "      <th>38</th>\n",
              "      <th>39</th>\n",
              "      <th>40</th>\n",
              "      <th>...</th>\n",
              "      <th>16241</th>\n",
              "      <th>16242</th>\n",
              "      <th>16243</th>\n",
              "      <th>16244</th>\n",
              "      <th>16245</th>\n",
              "      <th>16246</th>\n",
              "      <th>16247</th>\n",
              "      <th>16248</th>\n",
              "      <th>16249</th>\n",
              "      <th>16250</th>\n",
              "      <th>16251</th>\n",
              "      <th>16252</th>\n",
              "      <th>16253</th>\n",
              "      <th>16254</th>\n",
              "      <th>16255</th>\n",
              "      <th>16256</th>\n",
              "      <th>16257</th>\n",
              "      <th>16258</th>\n",
              "      <th>16259</th>\n",
              "      <th>16260</th>\n",
              "      <th>16261</th>\n",
              "      <th>16262</th>\n",
              "      <th>16263</th>\n",
              "      <th>16264</th>\n",
              "      <th>16265</th>\n",
              "      <th>16266</th>\n",
              "      <th>16267</th>\n",
              "      <th>16268</th>\n",
              "      <th>16269</th>\n",
              "      <th>16270</th>\n",
              "      <th>16271</th>\n",
              "      <th>16272</th>\n",
              "      <th>16273</th>\n",
              "      <th>16274</th>\n",
              "      <th>16275</th>\n",
              "      <th>16276</th>\n",
              "      <th>16277</th>\n",
              "      <th>16278</th>\n",
              "      <th>16279</th>\n",
              "      <th>16280</th>\n",
              "    </tr>\n",
              "    <tr>\n",
              "      <th>game_id</th>\n",
              "      <th></th>\n",
              "      <th></th>\n",
              "      <th></th>\n",
              "      <th></th>\n",
              "      <th></th>\n",
              "      <th></th>\n",
              "      <th></th>\n",
              "      <th></th>\n",
              "      <th></th>\n",
              "      <th></th>\n",
              "      <th></th>\n",
              "      <th></th>\n",
              "      <th></th>\n",
              "      <th></th>\n",
              "      <th></th>\n",
              "      <th></th>\n",
              "      <th></th>\n",
              "      <th></th>\n",
              "      <th></th>\n",
              "      <th></th>\n",
              "      <th></th>\n",
              "      <th></th>\n",
              "      <th></th>\n",
              "      <th></th>\n",
              "      <th></th>\n",
              "      <th></th>\n",
              "      <th></th>\n",
              "      <th></th>\n",
              "      <th></th>\n",
              "      <th></th>\n",
              "      <th></th>\n",
              "      <th></th>\n",
              "      <th></th>\n",
              "      <th></th>\n",
              "      <th></th>\n",
              "      <th></th>\n",
              "      <th></th>\n",
              "      <th></th>\n",
              "      <th></th>\n",
              "      <th></th>\n",
              "      <th></th>\n",
              "      <th></th>\n",
              "      <th></th>\n",
              "      <th></th>\n",
              "      <th></th>\n",
              "      <th></th>\n",
              "      <th></th>\n",
              "      <th></th>\n",
              "      <th></th>\n",
              "      <th></th>\n",
              "      <th></th>\n",
              "      <th></th>\n",
              "      <th></th>\n",
              "      <th></th>\n",
              "      <th></th>\n",
              "      <th></th>\n",
              "      <th></th>\n",
              "      <th></th>\n",
              "      <th></th>\n",
              "      <th></th>\n",
              "      <th></th>\n",
              "      <th></th>\n",
              "      <th></th>\n",
              "      <th></th>\n",
              "      <th></th>\n",
              "      <th></th>\n",
              "      <th></th>\n",
              "      <th></th>\n",
              "      <th></th>\n",
              "      <th></th>\n",
              "      <th></th>\n",
              "      <th></th>\n",
              "      <th></th>\n",
              "      <th></th>\n",
              "      <th></th>\n",
              "      <th></th>\n",
              "      <th></th>\n",
              "      <th></th>\n",
              "      <th></th>\n",
              "      <th></th>\n",
              "      <th></th>\n",
              "    </tr>\n",
              "  </thead>\n",
              "  <tbody>\n",
              "    <tr>\n",
              "      <th>1</th>\n",
              "      <td>0.0</td>\n",
              "      <td>0.0</td>\n",
              "      <td>0.0</td>\n",
              "      <td>0.0</td>\n",
              "      <td>0.0</td>\n",
              "      <td>10.0</td>\n",
              "      <td>0.0</td>\n",
              "      <td>0.0</td>\n",
              "      <td>0.0</td>\n",
              "      <td>0.0</td>\n",
              "      <td>0.0</td>\n",
              "      <td>0.0</td>\n",
              "      <td>9.0</td>\n",
              "      <td>0.0</td>\n",
              "      <td>0.0</td>\n",
              "      <td>0.0</td>\n",
              "      <td>0.0</td>\n",
              "      <td>0.0</td>\n",
              "      <td>8.0</td>\n",
              "      <td>0.0</td>\n",
              "      <td>0.0</td>\n",
              "      <td>0.0</td>\n",
              "      <td>0.0</td>\n",
              "      <td>0.0</td>\n",
              "      <td>0.0</td>\n",
              "      <td>0.0</td>\n",
              "      <td>0.0</td>\n",
              "      <td>0.0</td>\n",
              "      <td>0.0</td>\n",
              "      <td>0.0</td>\n",
              "      <td>0.0</td>\n",
              "      <td>0.0</td>\n",
              "      <td>0.0</td>\n",
              "      <td>0.0</td>\n",
              "      <td>0.0</td>\n",
              "      <td>0.0</td>\n",
              "      <td>0.0</td>\n",
              "      <td>0.0</td>\n",
              "      <td>0.0</td>\n",
              "      <td>0.0</td>\n",
              "      <td>...</td>\n",
              "      <td>0.0</td>\n",
              "      <td>0.0</td>\n",
              "      <td>0.0</td>\n",
              "      <td>0.0</td>\n",
              "      <td>0.0</td>\n",
              "      <td>0.0</td>\n",
              "      <td>0.0</td>\n",
              "      <td>0.0</td>\n",
              "      <td>0.0</td>\n",
              "      <td>0.0</td>\n",
              "      <td>0.0</td>\n",
              "      <td>0.0</td>\n",
              "      <td>0.0</td>\n",
              "      <td>0.0</td>\n",
              "      <td>0.0</td>\n",
              "      <td>0.0</td>\n",
              "      <td>0.0</td>\n",
              "      <td>0.0</td>\n",
              "      <td>0.0</td>\n",
              "      <td>0.0</td>\n",
              "      <td>0.0</td>\n",
              "      <td>0.0</td>\n",
              "      <td>0.0</td>\n",
              "      <td>0.0</td>\n",
              "      <td>0.0</td>\n",
              "      <td>0.0</td>\n",
              "      <td>0.0</td>\n",
              "      <td>0.0</td>\n",
              "      <td>0.0</td>\n",
              "      <td>0.0</td>\n",
              "      <td>0.0</td>\n",
              "      <td>0.0</td>\n",
              "      <td>0.0</td>\n",
              "      <td>0.0</td>\n",
              "      <td>0.0</td>\n",
              "      <td>0.0</td>\n",
              "      <td>0.0</td>\n",
              "      <td>0.0</td>\n",
              "      <td>9.0</td>\n",
              "      <td>0.0</td>\n",
              "    </tr>\n",
              "    <tr>\n",
              "      <th>3</th>\n",
              "      <td>0.0</td>\n",
              "      <td>0.0</td>\n",
              "      <td>0.0</td>\n",
              "      <td>0.0</td>\n",
              "      <td>0.0</td>\n",
              "      <td>0.0</td>\n",
              "      <td>0.0</td>\n",
              "      <td>0.0</td>\n",
              "      <td>0.0</td>\n",
              "      <td>0.0</td>\n",
              "      <td>0.0</td>\n",
              "      <td>0.0</td>\n",
              "      <td>0.0</td>\n",
              "      <td>0.0</td>\n",
              "      <td>0.0</td>\n",
              "      <td>0.0</td>\n",
              "      <td>0.0</td>\n",
              "      <td>0.0</td>\n",
              "      <td>0.0</td>\n",
              "      <td>0.0</td>\n",
              "      <td>0.0</td>\n",
              "      <td>0.0</td>\n",
              "      <td>0.0</td>\n",
              "      <td>0.0</td>\n",
              "      <td>0.0</td>\n",
              "      <td>0.0</td>\n",
              "      <td>0.0</td>\n",
              "      <td>0.0</td>\n",
              "      <td>0.0</td>\n",
              "      <td>0.0</td>\n",
              "      <td>0.0</td>\n",
              "      <td>0.0</td>\n",
              "      <td>0.0</td>\n",
              "      <td>0.0</td>\n",
              "      <td>0.0</td>\n",
              "      <td>0.0</td>\n",
              "      <td>0.0</td>\n",
              "      <td>0.0</td>\n",
              "      <td>0.0</td>\n",
              "      <td>0.0</td>\n",
              "      <td>...</td>\n",
              "      <td>0.0</td>\n",
              "      <td>0.0</td>\n",
              "      <td>0.0</td>\n",
              "      <td>0.0</td>\n",
              "      <td>0.0</td>\n",
              "      <td>0.0</td>\n",
              "      <td>0.0</td>\n",
              "      <td>0.0</td>\n",
              "      <td>0.0</td>\n",
              "      <td>0.0</td>\n",
              "      <td>0.0</td>\n",
              "      <td>0.0</td>\n",
              "      <td>0.0</td>\n",
              "      <td>0.0</td>\n",
              "      <td>0.0</td>\n",
              "      <td>0.0</td>\n",
              "      <td>0.0</td>\n",
              "      <td>0.0</td>\n",
              "      <td>0.0</td>\n",
              "      <td>9.0</td>\n",
              "      <td>0.0</td>\n",
              "      <td>0.0</td>\n",
              "      <td>0.0</td>\n",
              "      <td>0.0</td>\n",
              "      <td>0.0</td>\n",
              "      <td>0.0</td>\n",
              "      <td>0.0</td>\n",
              "      <td>0.0</td>\n",
              "      <td>9.0</td>\n",
              "      <td>0.0</td>\n",
              "      <td>0.0</td>\n",
              "      <td>0.0</td>\n",
              "      <td>0.0</td>\n",
              "      <td>0.0</td>\n",
              "      <td>0.0</td>\n",
              "      <td>0.0</td>\n",
              "      <td>0.0</td>\n",
              "      <td>0.0</td>\n",
              "      <td>0.0</td>\n",
              "      <td>0.0</td>\n",
              "    </tr>\n",
              "    <tr>\n",
              "      <th>5</th>\n",
              "      <td>0.0</td>\n",
              "      <td>0.0</td>\n",
              "      <td>0.0</td>\n",
              "      <td>0.0</td>\n",
              "      <td>0.0</td>\n",
              "      <td>0.0</td>\n",
              "      <td>0.0</td>\n",
              "      <td>0.0</td>\n",
              "      <td>10.0</td>\n",
              "      <td>0.0</td>\n",
              "      <td>0.0</td>\n",
              "      <td>0.0</td>\n",
              "      <td>0.0</td>\n",
              "      <td>0.0</td>\n",
              "      <td>0.0</td>\n",
              "      <td>0.0</td>\n",
              "      <td>0.0</td>\n",
              "      <td>0.0</td>\n",
              "      <td>0.0</td>\n",
              "      <td>0.0</td>\n",
              "      <td>0.0</td>\n",
              "      <td>0.0</td>\n",
              "      <td>0.0</td>\n",
              "      <td>0.0</td>\n",
              "      <td>0.0</td>\n",
              "      <td>0.0</td>\n",
              "      <td>0.0</td>\n",
              "      <td>0.0</td>\n",
              "      <td>0.0</td>\n",
              "      <td>0.0</td>\n",
              "      <td>0.0</td>\n",
              "      <td>0.0</td>\n",
              "      <td>10.0</td>\n",
              "      <td>0.0</td>\n",
              "      <td>0.0</td>\n",
              "      <td>0.0</td>\n",
              "      <td>0.0</td>\n",
              "      <td>0.0</td>\n",
              "      <td>0.0</td>\n",
              "      <td>0.0</td>\n",
              "      <td>...</td>\n",
              "      <td>0.0</td>\n",
              "      <td>0.0</td>\n",
              "      <td>0.0</td>\n",
              "      <td>0.0</td>\n",
              "      <td>0.0</td>\n",
              "      <td>0.0</td>\n",
              "      <td>0.0</td>\n",
              "      <td>0.0</td>\n",
              "      <td>0.0</td>\n",
              "      <td>0.0</td>\n",
              "      <td>0.0</td>\n",
              "      <td>0.0</td>\n",
              "      <td>0.0</td>\n",
              "      <td>0.0</td>\n",
              "      <td>0.0</td>\n",
              "      <td>0.0</td>\n",
              "      <td>0.0</td>\n",
              "      <td>0.0</td>\n",
              "      <td>9.0</td>\n",
              "      <td>0.0</td>\n",
              "      <td>0.0</td>\n",
              "      <td>0.0</td>\n",
              "      <td>0.0</td>\n",
              "      <td>0.0</td>\n",
              "      <td>0.0</td>\n",
              "      <td>0.0</td>\n",
              "      <td>0.0</td>\n",
              "      <td>0.0</td>\n",
              "      <td>0.0</td>\n",
              "      <td>0.0</td>\n",
              "      <td>0.0</td>\n",
              "      <td>0.0</td>\n",
              "      <td>0.0</td>\n",
              "      <td>0.0</td>\n",
              "      <td>0.0</td>\n",
              "      <td>9.0</td>\n",
              "      <td>0.0</td>\n",
              "      <td>0.0</td>\n",
              "      <td>0.0</td>\n",
              "      <td>0.0</td>\n",
              "    </tr>\n",
              "    <tr>\n",
              "      <th>7</th>\n",
              "      <td>8.0</td>\n",
              "      <td>0.0</td>\n",
              "      <td>0.0</td>\n",
              "      <td>0.0</td>\n",
              "      <td>0.0</td>\n",
              "      <td>0.0</td>\n",
              "      <td>0.0</td>\n",
              "      <td>0.0</td>\n",
              "      <td>0.0</td>\n",
              "      <td>0.0</td>\n",
              "      <td>0.0</td>\n",
              "      <td>0.0</td>\n",
              "      <td>0.0</td>\n",
              "      <td>0.0</td>\n",
              "      <td>0.0</td>\n",
              "      <td>0.0</td>\n",
              "      <td>7.0</td>\n",
              "      <td>0.0</td>\n",
              "      <td>0.0</td>\n",
              "      <td>0.0</td>\n",
              "      <td>0.0</td>\n",
              "      <td>0.0</td>\n",
              "      <td>10.0</td>\n",
              "      <td>0.0</td>\n",
              "      <td>0.0</td>\n",
              "      <td>0.0</td>\n",
              "      <td>0.0</td>\n",
              "      <td>0.0</td>\n",
              "      <td>0.0</td>\n",
              "      <td>0.0</td>\n",
              "      <td>0.0</td>\n",
              "      <td>0.0</td>\n",
              "      <td>0.0</td>\n",
              "      <td>0.0</td>\n",
              "      <td>0.0</td>\n",
              "      <td>0.0</td>\n",
              "      <td>0.0</td>\n",
              "      <td>0.0</td>\n",
              "      <td>0.0</td>\n",
              "      <td>0.0</td>\n",
              "      <td>...</td>\n",
              "      <td>0.0</td>\n",
              "      <td>0.0</td>\n",
              "      <td>0.0</td>\n",
              "      <td>0.0</td>\n",
              "      <td>0.0</td>\n",
              "      <td>0.0</td>\n",
              "      <td>0.0</td>\n",
              "      <td>0.0</td>\n",
              "      <td>0.0</td>\n",
              "      <td>0.0</td>\n",
              "      <td>0.0</td>\n",
              "      <td>0.0</td>\n",
              "      <td>0.0</td>\n",
              "      <td>0.0</td>\n",
              "      <td>8.0</td>\n",
              "      <td>0.0</td>\n",
              "      <td>0.0</td>\n",
              "      <td>0.0</td>\n",
              "      <td>6.0</td>\n",
              "      <td>0.0</td>\n",
              "      <td>7.0</td>\n",
              "      <td>0.0</td>\n",
              "      <td>0.0</td>\n",
              "      <td>8.0</td>\n",
              "      <td>0.0</td>\n",
              "      <td>0.0</td>\n",
              "      <td>0.0</td>\n",
              "      <td>0.0</td>\n",
              "      <td>0.0</td>\n",
              "      <td>0.0</td>\n",
              "      <td>0.0</td>\n",
              "      <td>0.0</td>\n",
              "      <td>0.0</td>\n",
              "      <td>0.0</td>\n",
              "      <td>0.0</td>\n",
              "      <td>7.0</td>\n",
              "      <td>0.0</td>\n",
              "      <td>0.0</td>\n",
              "      <td>0.0</td>\n",
              "      <td>0.0</td>\n",
              "    </tr>\n",
              "    <tr>\n",
              "      <th>10</th>\n",
              "      <td>0.0</td>\n",
              "      <td>0.0</td>\n",
              "      <td>0.0</td>\n",
              "      <td>0.0</td>\n",
              "      <td>0.0</td>\n",
              "      <td>0.0</td>\n",
              "      <td>0.0</td>\n",
              "      <td>0.0</td>\n",
              "      <td>8.0</td>\n",
              "      <td>0.0</td>\n",
              "      <td>8.0</td>\n",
              "      <td>0.0</td>\n",
              "      <td>0.0</td>\n",
              "      <td>0.0</td>\n",
              "      <td>0.0</td>\n",
              "      <td>0.0</td>\n",
              "      <td>0.0</td>\n",
              "      <td>0.0</td>\n",
              "      <td>0.0</td>\n",
              "      <td>0.0</td>\n",
              "      <td>0.0</td>\n",
              "      <td>0.0</td>\n",
              "      <td>0.0</td>\n",
              "      <td>0.0</td>\n",
              "      <td>0.0</td>\n",
              "      <td>0.0</td>\n",
              "      <td>8.0</td>\n",
              "      <td>0.0</td>\n",
              "      <td>0.0</td>\n",
              "      <td>0.0</td>\n",
              "      <td>0.0</td>\n",
              "      <td>0.0</td>\n",
              "      <td>0.0</td>\n",
              "      <td>0.0</td>\n",
              "      <td>0.0</td>\n",
              "      <td>0.0</td>\n",
              "      <td>0.0</td>\n",
              "      <td>0.0</td>\n",
              "      <td>0.0</td>\n",
              "      <td>0.0</td>\n",
              "      <td>...</td>\n",
              "      <td>0.0</td>\n",
              "      <td>0.0</td>\n",
              "      <td>0.0</td>\n",
              "      <td>0.0</td>\n",
              "      <td>0.0</td>\n",
              "      <td>0.0</td>\n",
              "      <td>0.0</td>\n",
              "      <td>0.0</td>\n",
              "      <td>0.0</td>\n",
              "      <td>0.0</td>\n",
              "      <td>0.0</td>\n",
              "      <td>0.0</td>\n",
              "      <td>0.0</td>\n",
              "      <td>0.0</td>\n",
              "      <td>0.0</td>\n",
              "      <td>0.0</td>\n",
              "      <td>0.0</td>\n",
              "      <td>0.0</td>\n",
              "      <td>8.0</td>\n",
              "      <td>0.0</td>\n",
              "      <td>0.0</td>\n",
              "      <td>0.0</td>\n",
              "      <td>0.0</td>\n",
              "      <td>0.0</td>\n",
              "      <td>0.0</td>\n",
              "      <td>0.0</td>\n",
              "      <td>0.0</td>\n",
              "      <td>0.0</td>\n",
              "      <td>0.0</td>\n",
              "      <td>0.0</td>\n",
              "      <td>0.0</td>\n",
              "      <td>0.0</td>\n",
              "      <td>0.0</td>\n",
              "      <td>8.0</td>\n",
              "      <td>0.0</td>\n",
              "      <td>9.0</td>\n",
              "      <td>0.0</td>\n",
              "      <td>0.0</td>\n",
              "      <td>0.0</td>\n",
              "      <td>0.0</td>\n",
              "    </tr>\n",
              "  </tbody>\n",
              "</table>\n",
              "<p>5 rows × 16280 columns</p>\n",
              "</div>"
            ],
            "text/plain": [
              "         1      2      3      4      5      ...  16276  16277  16278  16279  16280\n",
              "game_id                                     ...                                   \n",
              "1          0.0    0.0    0.0    0.0    0.0  ...    0.0    0.0    0.0    9.0    0.0\n",
              "3          0.0    0.0    0.0    0.0    0.0  ...    0.0    0.0    0.0    0.0    0.0\n",
              "5          0.0    0.0    0.0    0.0    0.0  ...    9.0    0.0    0.0    0.0    0.0\n",
              "7          8.0    0.0    0.0    0.0    0.0  ...    7.0    0.0    0.0    0.0    0.0\n",
              "10         0.0    0.0    0.0    0.0    0.0  ...    9.0    0.0    0.0    0.0    0.0\n",
              "\n",
              "[5 rows x 16280 columns]"
            ]
          },
          "metadata": {
            "tags": []
          },
          "execution_count": 17
        }
      ]
    },
    {
      "cell_type": "markdown",
      "metadata": {
        "id": "nkxXxt4NIExP"
      },
      "source": [
        "# EDA\n",
        "\n",
        "Great, our data is all cleaned and ready for modeling, but let's look at some of our distributions a little closer first. First up, I want to look at how are rating levels are distributed. We should be expecting a lot of high values as we took the highest rated reviews for each game when we scraped our data."
      ]
    },
    {
      "cell_type": "code",
      "metadata": {
        "colab": {
          "base_uri": "https://localhost:8080/",
          "height": 550
        },
        "id": "PYUAlwoX7JJW",
        "outputId": "7429ddab-b9a2-4cee-c4dc-c616382b968a"
      },
      "source": [
        "fig = plt.figure(figsize=(12,8))\n",
        "more_than_50_reviews.rating.value_counts(normalize=True).plot(kind='bar')\n",
        "plt.title('Distribution of Rating Values', fontsize=18)\n",
        "plt.xlabel('Ratings', fontsize=14)\n",
        "plt.ylabel('Percentage of Sample', fontsize=14)"
      ],
      "execution_count": null,
      "outputs": [
        {
          "output_type": "execute_result",
          "data": {
            "text/plain": [
              "Text(0, 0.5, 'Percentage of Sample')"
            ]
          },
          "metadata": {
            "tags": []
          },
          "execution_count": 18
        },
        {
          "output_type": "display_data",
          "data": {
            "image/png": "[encoded data removed]",
            "text/plain": [
              "<Figure size 864x576 with 1 Axes>"
            ]
          },
          "metadata": {
            "tags": [],
            "needs_background": "light"
          }
        }
      ]
    },
    {
      "cell_type": "markdown",
      "metadata": {
        "id": "FI5UfVmw1VuO"
      },
      "source": [
        "As expected the vast majority of our games are above 5 out of a 10 point rating. Furthermore, we have a lot of 8 point ratings. This will be important to consider when we evaluate our models.\n",
        "\n",
        "Next we should look at the review counts for each game."
      ]
    },
    {
      "cell_type": "code",
      "metadata": {
        "colab": {
          "base_uri": "https://localhost:8080/",
          "height": 1000
        },
        "id": "o4qQWw06YyLR",
        "outputId": "72c7e363-d602-4cd2-b9a9-848dec1a2327"
      },
      "source": [
        "fig = plt.figure(figsize=(18,8))\n",
        "g = sns.barplot(x = reviews_pvt.index, y = reviews_pvt.notna().sum(axis=1))\n",
        "plt.title('Number of Reviews per Game', fontsize=18)\n",
        "plt.xlabel('Game ID', fontsize = 14)\n",
        "plt.ylabel('Review Count', fontsize=14)\n",
        "\n",
        "new_ticks = [i.get_text() for i in g.get_xticklabels()]\n",
        "plt.xticks(range(0, len(new_ticks), 100), new_ticks[::100])"
      ],
      "execution_count": null,
      "outputs": [
        {
          "output_type": "execute_result",
          "data": {
            "text/plain": [
              "([<matplotlib.axis.XTick at 0x7f8a502ce2b0>,\n",
              "  <matplotlib.axis.XTick at 0x7f8a502ce278>,\n",
              "  <matplotlib.axis.XTick at 0x7f8a502c9e80>,\n",
              "  <matplotlib.axis.XTick at 0x7f8a4d7e0c18>,\n",
              "  <matplotlib.axis.XTick at 0x7f8a4d7ed160>,\n",
              "  <matplotlib.axis.XTick at 0x7f8a4d7ed588>,\n",
              "  <matplotlib.axis.XTick at 0x7f8a4d7eda20>,\n",
              "  <matplotlib.axis.XTick at 0x7f8a4d7edeb8>,\n",
              "  <matplotlib.axis.XTick at 0x7f8a4d7ed978>,\n",
              "  <matplotlib.axis.XTick at 0x7f8a4d7e0f28>,\n",
              "  <matplotlib.axis.XTick at 0x7f8a4d7f6630>,\n",
              "  <matplotlib.axis.XTick at 0x7f8a4d7f6ac8>,\n",
              "  <matplotlib.axis.XTick at 0x7f8a4d7f6f60>,\n",
              "  <matplotlib.axis.XTick at 0x7f8a4d7fd438>,\n",
              "  <matplotlib.axis.XTick at 0x7f8a4d7fd8d0>,\n",
              "  <matplotlib.axis.XTick at 0x7f8a4d7fdd68>,\n",
              "  <matplotlib.axis.XTick at 0x7f8a4d808240>,\n",
              "  <matplotlib.axis.XTick at 0x7f8a4d7fd9b0>,\n",
              "  <matplotlib.axis.XTick at 0x7f8a4d7f6c18>,\n",
              "  <matplotlib.axis.XTick at 0x7f8a4d8085f8>],\n",
              " [Text(0, 0, '1'),\n",
              "  Text(0, 0, '354'),\n",
              "  Text(0, 0, '1231'),\n",
              "  Text(0, 0, '3076'),\n",
              "  Text(0, 0, '9028'),\n",
              "  Text(0, 0, '18098'),\n",
              "  Text(0, 0, '26990'),\n",
              "  Text(0, 0, '35815'),\n",
              "  Text(0, 0, '46213'),\n",
              "  Text(0, 0, '71906'),\n",
              "  Text(0, 0, '102794'),\n",
              "  Text(0, 0, '124172'),\n",
              "  Text(0, 0, '139030'),\n",
              "  Text(0, 0, '151347'),\n",
              "  Text(0, 0, '163967'),\n",
              "  Text(0, 0, '175239'),\n",
              "  Text(0, 0, '191189'),\n",
              "  Text(0, 0, '204472'),\n",
              "  Text(0, 0, '224517'),\n",
              "  Text(0, 0, '246784')])"
            ]
          },
          "metadata": {
            "tags": []
          },
          "execution_count": 19
        },
        {
          "output_type": "display_data",
          "data": {
            "image/png": "[encoded data removed]",
            "text/plain": [
              "<Figure size 1296x576 with 1 Axes>"
            ]
          },
          "metadata": {
            "tags": [],
            "needs_background": "light"
          }
        }
      ]
    },
    {
      "cell_type": "markdown",
      "metadata": {
        "id": "8weCfXfq1uH5"
      },
      "source": [
        "this graph is a little busy, but we get the general idea of the distribution. Just to make it a bit clearer, I am going to bin our values and regraph them."
      ]
    },
    {
      "cell_type": "code",
      "metadata": {
        "id": "iwj0H7lzLS1f"
      },
      "source": [
        "num_ratings_by_game = more_than_50_reviews.groupby('game_id').count()['rating'].copy()\n",
        "num_ratings_by_game.sort_values(inplace = True)\n",
        "\n",
        "stops_for_review_counts = [1, 200, 400, 600, 800, 1000, 1200, 1400, 1600]\n",
        "review_count_bins = {}\n",
        "\n",
        "\n",
        "for index in range(1, len(stops_for_review_counts)):\n",
        "    review_count_bins[str(stops_for_review_counts[index - 1]) + ' - ' + str(stops_for_review_counts[index])] = \\\n",
        "        len(num_ratings_by_game[(num_ratings_by_game > stops_for_review_counts[index - 1]) & \\\n",
        "            (num_ratings_by_game <= stops_for_review_counts[index])])"
      ],
      "execution_count": null,
      "outputs": []
    },
    {
      "cell_type": "code",
      "metadata": {
        "colab": {
          "base_uri": "https://localhost:8080/",
          "height": 472
        },
        "id": "hEUQ8NZxLxal",
        "outputId": "9d586edd-0468-4a0f-d3e8-b9983b3f0897"
      },
      "source": [
        "plt.figure(figsize=(10,6))\n",
        "plt.bar(review_count_bins.keys(), review_count_bins.values())\n",
        "plt.tick_params(axis = 'x', labelsize = 14, rotation = 45)\n",
        "plt.tick_params(axis = 'y', labelsize = 14)\n",
        "plt.xlabel('Number of Ratings', fontsize = 14)\n",
        "plt.ylabel('Number of Games', fontsize = 14)\n",
        "plt.title('Number of Games by Total Number of Ratings', fontsize = 18)\n",
        "plt.show()"
      ],
      "execution_count": null,
      "outputs": [
        {
          "output_type": "display_data",
          "data": {
            "image/png": "[encoded data removed]",
            "text/plain": [
              "<Figure size 720x432 with 1 Axes>"
            ]
          },
          "metadata": {
            "tags": [],
            "needs_background": "light"
          }
        }
      ]
    },
    {
      "cell_type": "markdown",
      "metadata": {
        "id": "8iETzmR3140a"
      },
      "source": [
        "Thats better. We actually have a fairly normally distributed number of ratings per game with most games having between 600 and 1000 reviews. Next up let's look at the average rating of each game."
      ]
    },
    {
      "cell_type": "code",
      "metadata": {
        "colab": {
          "base_uri": "https://localhost:8080/",
          "height": 1000
        },
        "id": "vfLW74cJ_8h5",
        "outputId": "574dda16-ce1a-4318-e304-c98b80f0f9cf"
      },
      "source": [
        "fig = plt.figure(figsize=(18,8))\n",
        "g = sns.barplot(x = reviews_pvt.index, y = reviews_pvt.mean(axis=1))\n",
        "plt.title('Average Boardgame Review Score', fontsize=18)\n",
        "plt.xlabel('Game ID', fontsize=14)\n",
        "plt.ylabel('Average Score', fontsize=14)\n",
        "\n",
        "new_ticks = [i.get_text() for i in g.get_xticklabels()]\n",
        "plt.xticks(range(0, len(new_ticks), 100), new_ticks[::100])"
      ],
      "execution_count": null,
      "outputs": [
        {
          "output_type": "execute_result",
          "data": {
            "text/plain": [
              "([<matplotlib.axis.XTick at 0x7f8a507ec9b0>,\n",
              "  <matplotlib.axis.XTick at 0x7f8a507ec978>,\n",
              "  <matplotlib.axis.XTick at 0x7f8a507ec5c0>,\n",
              "  <matplotlib.axis.XTick at 0x7f8a49ca8198>,\n",
              "  <matplotlib.axis.XTick at 0x7f8a49ca85f8>,\n",
              "  <matplotlib.axis.XTick at 0x7f8a49ca8940>,\n",
              "  <matplotlib.axis.XTick at 0x7f8a49ca8dd8>,\n",
              "  <matplotlib.axis.XTick at 0x7f8a49cb02b0>,\n",
              "  <matplotlib.axis.XTick at 0x7f8a49cb0748>,\n",
              "  <matplotlib.axis.XTick at 0x7f8a49cb0be0>,\n",
              "  <matplotlib.axis.XTick at 0x7f8a49cb8128>,\n",
              "  <matplotlib.axis.XTick at 0x7f8a49cb8550>,\n",
              "  <matplotlib.axis.XTick at 0x7f8a49cb89e8>,\n",
              "  <matplotlib.axis.XTick at 0x7f8a49cb8e80>,\n",
              "  <matplotlib.axis.XTick at 0x7f8a49cb8ac8>,\n",
              "  <matplotlib.axis.XTick at 0x7f8a49cb07f0>,\n",
              "  <matplotlib.axis.XTick at 0x7f8a49cc3128>,\n",
              "  <matplotlib.axis.XTick at 0x7f8a49cc3550>,\n",
              "  <matplotlib.axis.XTick at 0x7f8a49cc39e8>,\n",
              "  <matplotlib.axis.XTick at 0x7f8a49cc3e80>],\n",
              " [Text(0, 0, '1'),\n",
              "  Text(0, 0, '354'),\n",
              "  Text(0, 0, '1231'),\n",
              "  Text(0, 0, '3076'),\n",
              "  Text(0, 0, '9028'),\n",
              "  Text(0, 0, '18098'),\n",
              "  Text(0, 0, '26990'),\n",
              "  Text(0, 0, '35815'),\n",
              "  Text(0, 0, '46213'),\n",
              "  Text(0, 0, '71906'),\n",
              "  Text(0, 0, '102794'),\n",
              "  Text(0, 0, '124172'),\n",
              "  Text(0, 0, '139030'),\n",
              "  Text(0, 0, '151347'),\n",
              "  Text(0, 0, '163967'),\n",
              "  Text(0, 0, '175239'),\n",
              "  Text(0, 0, '191189'),\n",
              "  Text(0, 0, '204472'),\n",
              "  Text(0, 0, '224517'),\n",
              "  Text(0, 0, '246784')])"
            ]
          },
          "metadata": {
            "tags": []
          },
          "execution_count": 22
        },
        {
          "output_type": "display_data",
          "data": {
            "image/png": "[encoded data removed]",
            "text/plain": [
              "<Figure size 1296x576 with 1 Axes>"
            ]
          },
          "metadata": {
            "tags": [],
            "needs_background": "light"
          }
        }
      ]
    },
    {
      "cell_type": "markdown",
      "metadata": {
        "id": "uZ_ilz7B2Mhk"
      },
      "source": [
        "Most of our games have a very high average score. this is to be expected because of how we sampled our data. Again, this will be important to keep in mind when we assess our models.\n",
        "\n",
        "Next up, let's look at the number of ratings from each user."
      ]
    },
    {
      "cell_type": "code",
      "metadata": {
        "colab": {
          "base_uri": "https://localhost:8080/",
          "height": 424
        },
        "id": "szf5t7xqYx-p",
        "outputId": "e3731a2b-97e6-4cb9-98ea-827cbf8ecbcb"
      },
      "source": [
        "fig = plt.figure(figsize=(18,8))\n",
        "g = sns.barplot(x = reviews_pvt.columns, y = [sum(reviews_pvt[column] > 0) for column in reviews_pvt.columns])\n",
        "g.set(xticks=[])\n",
        "plt.title('Number of Ratings from Each User', fontsize=18)\n",
        "plt.xlabel('Users', fontsize=14)\n",
        "plt.ylabel('Review Count', fontsize=14)\n"
      ],
      "execution_count": null,
      "outputs": [
        {
          "output_type": "execute_result",
          "data": {
            "text/plain": [
              "Text(0, 0.5, 'Review Count')"
            ]
          },
          "metadata": {
            "tags": []
          },
          "execution_count": 23
        },
        {
          "output_type": "display_data",
          "data": {
            "image/png": "[encoded data removed]",
            "text/plain": [
              "<Figure size 1296x576 with 1 Axes>"
            ]
          },
          "metadata": {
            "tags": [],
            "needs_background": "light"
          }
        }
      ]
    },
    {
      "cell_type": "markdown",
      "metadata": {
        "id": "-6zNpEbG2f0K"
      },
      "source": [
        "Again this graph is pretty busy, so we will bin our values to give them a bit more meaning."
      ]
    },
    {
      "cell_type": "code",
      "metadata": {
        "id": "wFwr_SttJNFK"
      },
      "source": [
        "num_ratings_by_user = more_than_50_reviews.groupby('user').count()['rating'].copy()\n",
        "num_ratings_by_user.sort_values(inplace = True)\n",
        "\n",
        "stops_for_review_counts = [1, 100, 200, 400, 1300]\n",
        "review_count_bins = {}\n",
        "\n",
        "\n",
        "for index in range(1, len(stops_for_review_counts)):\n",
        "    review_count_bins[str(stops_for_review_counts[index - 1]) + ' - ' + str(stops_for_review_counts[index])] = \\\n",
        "        len(num_ratings_by_user[(num_ratings_by_user > stops_for_review_counts[index - 1]) & \\\n",
        "            (num_ratings_by_user <= stops_for_review_counts[index])])"
      ],
      "execution_count": null,
      "outputs": []
    },
    {
      "cell_type": "code",
      "metadata": {
        "colab": {
          "base_uri": "https://localhost:8080/",
          "height": 465
        },
        "id": "EcT08DnFK4fE",
        "outputId": "781c0c50-dca0-493f-d622-70527a09632e"
      },
      "source": [
        "plt.figure(figsize=(10,6))\n",
        "plt.bar(review_count_bins.keys(), review_count_bins.values())\n",
        "plt.tick_params(axis = 'x', labelsize = 14, rotation = 45)\n",
        "plt.tick_params(axis = 'y', labelsize = 14)\n",
        "plt.xlabel('Number of Ratings', fontsize = 14)\n",
        "plt.ylabel('Number of Users', fontsize = 14)\n",
        "plt.title('Number of Users by Total Number of Ratings', fontsize = 18)\n",
        "plt.show()"
      ],
      "execution_count": null,
      "outputs": [
        {
          "output_type": "display_data",
          "data": {
            "image/png": "[encoded data removed]",
            "text/plain": [
              "<Figure size 720x432 with 1 Axes>"
            ]
          },
          "metadata": {
            "tags": [],
            "needs_background": "light"
          }
        }
      ]
    },
    {
      "cell_type": "markdown",
      "metadata": {
        "id": "LjuYHhs02nkB"
      },
      "source": [
        "The vast majority of our reviewers have rated fewer than 100 games. This isn't too surprising as that is a lot of board game, but it does show how sparse our matrix is. To improve our model's accuracy we will need to add more data eventually.\n",
        "\n",
        "Finally, let's look at the average ratign from each user. Again, I expect these numbers to be relatively high due to our scraping method."
      ]
    },
    {
      "cell_type": "code",
      "metadata": {
        "colab": {
          "base_uri": "https://localhost:8080/",
          "height": 429
        },
        "id": "3afLXjLIGA-L",
        "outputId": "8719506f-d7d2-4548-b822-9ed5fb715980"
      },
      "source": [
        "fig = plt.figure(figsize=(18,8))\n",
        "g = sns.barplot(x = reviews_pvt.columns, y = [reviews_pvt[column].mean() for column in reviews_pvt.columns])\n",
        "g.set(xticks=[])\n",
        "plt.title('Average Rating from Each User', fontsize=18)\n",
        "plt.xlabel('Users', fontsize=14)\n",
        "plt.ylabel('Average Rating', fontsize=14)"
      ],
      "execution_count": null,
      "outputs": [
        {
          "output_type": "execute_result",
          "data": {
            "text/plain": [
              "Text(0, 0.5, 'Average Rating')"
            ]
          },
          "metadata": {
            "tags": []
          },
          "execution_count": 26
        },
        {
          "output_type": "display_data",
          "data": {
            "image/png": "[encoded data removed]",
            "text/plain": [
              "<Figure size 1296x576 with 1 Axes>"
            ]
          },
          "metadata": {
            "tags": [],
            "needs_background": "light"
          }
        }
      ]
    },
    {
      "cell_type": "markdown",
      "metadata": {
        "id": "aadZguSN3IOP"
      },
      "source": [
        "As expected our average rating for each user fluctuates around 8 points.  Once again, the presence of so many high ratings will need to be considered when we are analyzing our results."
      ]
    },
    {
      "cell_type": "markdown",
      "metadata": {
        "id": "vkJR1uUaIREu"
      },
      "source": [
        "# Modeling - Model Based Collaborative Filtering\n",
        "\n",
        "Now we are ready to begin modeling. For this notebook, we will be looking at building two rather simple models. We will build a K-nearest neighbors model and a singular value decomposition model, both using sci-kit learn. We will start with the KNN model.\n",
        "\n",
        "First we create a NearestNeighbors instance. We will use cosine as our distance metric as we are looking to calculate the cosine similarity and not a proper distance measure."
      ]
    },
    {
      "cell_type": "code",
      "metadata": {
        "colab": {
          "base_uri": "https://localhost:8080/"
        },
        "id": "ASHi97Wb8L3h",
        "outputId": "de67048e-db4e-4827-ae46-8f19d4392458"
      },
      "source": [
        "model_knn = NearestNeighbors(metric='cosine', algorithm='brute', n_neighbors=20, n_jobs=-1)\n",
        "model_knn.fit(pvt_filled)"
      ],
      "execution_count": null,
      "outputs": [
        {
          "output_type": "execute_result",
          "data": {
            "text/plain": [
              "NearestNeighbors(algorithm='brute', leaf_size=30, metric='cosine',\n",
              "                 metric_params=None, n_jobs=-1, n_neighbors=20, p=2,\n",
              "                 radius=1.0)"
            ]
          },
          "metadata": {
            "tags": []
          },
          "execution_count": 27
        }
      ]
    },
    {
      "cell_type": "markdown",
      "metadata": {
        "id": "zw6E9lQD5Kjv"
      },
      "source": [
        "Next we will use a handy function we wrote to retrieve recommendations. Our function will convert the name of a game into an id, find the 5 games with the most similar ratings and convert their ids back into the names of the games. We will pull recommendations for three games to make sure we are getting unique entries."
      ]
    },
    {
      "cell_type": "code",
      "metadata": {
        "colab": {
          "base_uri": "https://localhost:8080/"
        },
        "id": "-GeZuoWGp3rx",
        "outputId": "6052eb65-f45d-4f58-952f-3047889609d8"
      },
      "source": [
        "get_knn_recommendations('Gloomhaven', model_knn, game_df, game_id_pvt, pvt_filled)"
      ],
      "execution_count": null,
      "outputs": [
        {
          "output_type": "stream",
          "text": [
            "Recommendations for Gloomhaven:\n",
            "\n",
            "1: Gloomhaven: Jaws of the Lion, with distance of 0.8302014392979479:\n",
            "2: Spirit Island, with distance of 0.8408221723065283:\n",
            "3: Aeon's End: Legacy, with distance of 0.8472333914652613:\n",
            "4: Founders of Gloomhaven, with distance of 0.8482777123514965:\n",
            "5: The City of Kings, with distance of 0.8491417494404531:\n"
          ],
          "name": "stdout"
        }
      ]
    },
    {
      "cell_type": "code",
      "metadata": {
        "colab": {
          "base_uri": "https://localhost:8080/"
        },
        "id": "PBpbrghHq7_B",
        "outputId": "802dffb7-b8f9-4beb-8096-f2328c12cc20"
      },
      "source": [
        "get_knn_recommendations('Carcassonne', model_knn, game_df, game_id_pvt, pvt_filled)"
      ],
      "execution_count": null,
      "outputs": [
        {
          "output_type": "stream",
          "text": [
            "Recommendations for Carcassonne:\n",
            "\n",
            "1: Carcassonne: Expansion 1 – Inns & Cathedrals, with distance of 0.6532546748829806:\n",
            "2: Carcassonne: Expansion 2 – Traders & Builders, with distance of 0.6727079114202036:\n",
            "3: Carcassonne: The River, with distance of 0.8073784579172465:\n",
            "4: Carcassonne: Hunters and Gatherers, with distance of 0.8109385834944663:\n",
            "5: Carcassonne: King & Scout, with distance of 0.8152920092344547:\n"
          ],
          "name": "stdout"
        }
      ]
    },
    {
      "cell_type": "code",
      "metadata": {
        "colab": {
          "base_uri": "https://localhost:8080/"
        },
        "id": "4vNP_ufyp3zG",
        "outputId": "500cebec-3817-4628-e300-0558ae960af9"
      },
      "source": [
        "get_knn_recommendations('Monopoly', model_knn, game_df, game_id_pvt, pvt_filled)"
      ],
      "execution_count": null,
      "outputs": [
        {
          "output_type": "stream",
          "text": [
            "Recommendations for Monopoly:\n",
            "\n",
            "1: Risk, with distance of 0.7692131015852246:\n",
            "2: Clue, with distance of 0.8152203784505146:\n",
            "3: UNO, with distance of 0.8266588322479786:\n",
            "4: Battleship, with distance of 0.8310712723058971:\n",
            "5: The Game of Life, with distance of 0.8434296211907355:\n"
          ],
          "name": "stdout"
        }
      ]
    },
    {
      "cell_type": "markdown",
      "metadata": {
        "id": "z6PuSWod568N"
      },
      "source": [
        "Our recommendations look really good here. Gloomhaven returned two games that take place in the same world and other games of similar complexity and themes. Carcassonne returned several expansions, which are games that are very similar to the base game. And monopoly returned several clasic board games which makes a lot of sense. For such a simple model I am very happy with these results.\n",
        "\n",
        "Now let's build a SVD model. First up we will create a Truncated SVD instance and transform our pivot table into a sparse matrix. I played with the n_components parameter to find the best fit, and I was happiest with using 20."
      ]
    },
    {
      "cell_type": "code",
      "metadata": {
        "id": "o829Y-Vm8Ls_",
        "colab": {
          "base_uri": "https://localhost:8080/"
        },
        "outputId": "2fadd378-b1d7-4109-a3fa-1631ebc677b4"
      },
      "source": [
        "np.random.seed(123)\n",
        "\n",
        "svd = TruncatedSVD(n_components=20)\n",
        "matrix = svd.fit_transform(pvt_filled)\n",
        "matrix.shape"
      ],
      "execution_count": null,
      "outputs": [
        {
          "output_type": "execute_result",
          "data": {
            "text/plain": [
              "(1993, 20)"
            ]
          },
          "metadata": {
            "tags": []
          },
          "execution_count": 31
        }
      ]
    },
    {
      "cell_type": "markdown",
      "metadata": {
        "id": "wZ7D5tXY6tzH"
      },
      "source": [
        "Next we calculate the similarity matrix"
      ]
    },
    {
      "cell_type": "code",
      "metadata": {
        "id": "sJzkRPaH8Lnm",
        "colab": {
          "base_uri": "https://localhost:8080/"
        },
        "outputId": "0601a5b1-d360-4567-8ae7-44bcfb9ea0a9"
      },
      "source": [
        "corr = np.corrcoef(matrix)\n",
        "corr.shape"
      ],
      "execution_count": null,
      "outputs": [
        {
          "output_type": "execute_result",
          "data": {
            "text/plain": [
              "(1993, 1993)"
            ]
          },
          "metadata": {
            "tags": []
          },
          "execution_count": 32
        }
      ]
    },
    {
      "cell_type": "markdown",
      "metadata": {
        "id": "0IQD-D2b615L"
      },
      "source": [
        "Finally, we assign a game that we want to pull reviews for and look at where we have the highest ratings. Here we will look at the recommendations for Gloomhaven, where the similarity is above a .9."
      ]
    },
    {
      "cell_type": "code",
      "metadata": {
        "id": "wd-92lHDzOID",
        "colab": {
          "base_uri": "https://localhost:8080/"
        },
        "outputId": "55ab91d9-dd26-444f-804f-4b0517133288"
      },
      "source": [
        "gloom_id = 1487\n",
        "ids = pvt_filled.index\n",
        "recs = list(ids[corr[gloom_id] > .9])\n",
        "recs"
      ],
      "execution_count": null,
      "outputs": [
        {
          "output_type": "execute_result",
          "data": {
            "text/plain": [
              "[55690, 162886, 174430, 205637]"
            ]
          },
          "metadata": {
            "tags": []
          },
          "execution_count": 33
        }
      ]
    },
    {
      "cell_type": "markdown",
      "metadata": {
        "id": "ODTTbV219HPL"
      },
      "source": [
        "We got back the ids for Kingdom Death: Monster, Spirit Island, Too Many Bones and Arkham Horror: the Card Game. All of these are pretty decent recomendations as they are all fairly heavy thematic games. I cleaned this process up into a handy function we can use, as seen below."
      ]
    },
    {
      "cell_type": "code",
      "metadata": {
        "colab": {
          "base_uri": "https://localhost:8080/"
        },
        "id": "eAIA9EVn0Xxg",
        "outputId": "1ca072ac-71d7-4b58-9e67-df6636fd1fcc"
      },
      "source": [
        "get_svd_recommendations('Gloomhaven', stats_df=game_df, pvt_table=pvt_filled, pvt_table2=game_id_pvt)"
      ],
      "execution_count": null,
      "outputs": [
        {
          "output_type": "stream",
          "text": [
            "Kingdom Death: Monster\n",
            "Spirit Island\n",
            "Gloomhaven\n",
            "Too Many Bones\n",
            "Arkham Horror: The Card Game\n"
          ],
          "name": "stdout"
        }
      ]
    },
    {
      "cell_type": "code",
      "metadata": {
        "colab": {
          "base_uri": "https://localhost:8080/"
        },
        "id": "L_GbdMfass_X",
        "outputId": "23ec399f-888d-45a5-9502-08486648b2e1"
      },
      "source": [
        "get_svd_recommendations('Carcassonne', stats_df=game_df, pvt_table=pvt_filled, pvt_table2=game_id_pvt)"
      ],
      "execution_count": null,
      "outputs": [
        {
          "output_type": "stream",
          "text": [
            "Carcassonne\n",
            "Carcassonne: Expansion 1 – Inns & Cathedrals\n",
            "Carcassonne: Expansion 2 – Traders & Builders\n"
          ],
          "name": "stdout"
        }
      ]
    },
    {
      "cell_type": "code",
      "metadata": {
        "colab": {
          "base_uri": "https://localhost:8080/"
        },
        "id": "0qrcaQ0vtwsm",
        "outputId": "b6a816e5-dda2-4171-8361-ba6c00758ba2"
      },
      "source": [
        "get_svd_recommendations('Monopoly', stats_df=game_df, pvt_table=pvt_filled, pvt_table2=game_id_pvt)"
      ],
      "execution_count": null,
      "outputs": [
        {
          "output_type": "stream",
          "text": [
            "Risk\n",
            "Scrabble\n",
            "Scotland Yard\n",
            "Phase 10\n",
            "Clue\n",
            "Monopoly\n",
            "Stratego\n",
            "UNO\n",
            "Yahtzee\n",
            "Battleship\n"
          ],
          "name": "stdout"
        }
      ]
    },
    {
      "cell_type": "markdown",
      "metadata": {
        "id": "OSmcVhd49obJ"
      },
      "source": [
        "This method is a little more cumbersome than the KNN model as it is random and thus changes everytime we make the matrix. Also, the way that we have the model set up it doesn't return a set number of games, but rather games that are above a certain threshhold. We could change the output, but I find this more informative.\n",
        "\n",
        "# Analysis\n",
        "\n",
        "Both models provided decent recommendations. I like the KNN recommendations for monopoly and the svd model for Gloomhaven. Both sets of recommendations for Carcassonne consisted entirely of expansions, so they were basically the same.  As far as preference as a whole, I would choose the KNN model as it is a little more efficient to implement, though the implementation of the SVD model could be enhanced. Ultimately I would recommend getting user feedback on the outputs of both models to determine a better choice.\n",
        "\n",
        "So far we have looked at models that provide recommendations for individual games. None of the models that we have built so far support the creation of new users or recommendations for users. In the next notebook we will build a recommendation system that will allow us to do these things.\n",
        "\n",
        "# Demo\n",
        "\n",
        "If you run the cell below, you can enter a game's name and see recommendations from both systems."
      ]
    },
    {
      "cell_type": "code",
      "metadata": {
        "colab": {
          "base_uri": "https://localhost:8080/"
        },
        "id": "9eB1dKHX6Fh8",
        "outputId": "4f291092-d497-4d0d-ac70-fd491a1171e3"
      },
      "source": [
        "get_recommendations(model_knn, game_df, game_id_pvt, pvt_filled)"
      ],
      "execution_count": null,
      "outputs": [
        {
          "output_type": "stream",
          "text": [
            "Enter game for recommendations: Monopoly\n",
            "\n",
            "\n",
            "KNN Recommendations\n",
            "Recommendations for Monopoly:\n",
            "\n",
            "1: Risk, with distance of 0.7692131015852246:\n",
            "2: Clue, with distance of 0.8152203784505146:\n",
            "3: UNO, with distance of 0.8266588322479786:\n",
            "4: Battleship, with distance of 0.8310712723058971:\n",
            "5: The Game of Life, with distance of 0.8434296211907355:\n",
            "\n",
            "\n",
            "SVD Recommendations\n",
            "Risk\n",
            "Scrabble\n",
            "Mille Bornes\n",
            "Phase 10\n",
            "Clue\n",
            "Monopoly\n",
            "Stratego\n",
            "UNO\n",
            "Yahtzee\n",
            "Battleship\n",
            "The Game of Life\n",
            "Get more recommendations? y/n: n\n"
          ],
          "name": "stdout"
        }
      ]
    }
  ]
}