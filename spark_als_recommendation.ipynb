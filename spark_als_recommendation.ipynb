{
  "nbformat": 4,
  "nbformat_minor": 0,
  "metadata": {
    "colab": {
      "name": "spark_als_recommendation.ipynb",
      "provenance": [],
      "collapsed_sections": [],
      "toc_visible": true,
      "mount_file_id": "1lf0B5JhEakcDPTeJiR0DQFjk3BbCTcF6",
      "authorship_tag": "ABX9TyNoq+TOO/TSit5KsaYtJb6m",
      "include_colab_link": true
    },
    "kernelspec": {
      "name": "python3",
      "display_name": "Python 3"
    }
  },
  "cells": [
    {
      "cell_type": "markdown",
      "metadata": {
        "id": "view-in-github",
        "colab_type": "text"
      },
      "source": [
        "<a href=\"https://colab.research.google.com/github/CGrannan/building-boardgame-recommendation-systems/blob/master/spark_als_recommendation.ipynb\" target=\"_parent\"><img src=\"https://colab.research.google.com/assets/colab-badge.svg\" alt=\"Open In Colab\"/></a>"
      ]
    },
    {
      "cell_type": "markdown",
      "metadata": {
        "id": "IY16Yj57rDrj"
      },
      "source": [
        "# Introduction\n",
        "\n",
        "In our last notebook we started to look at how collaborative-filtering recommendation systems work. We built two systems that provide recommendations based on an item. In this notebook we will be building another collaborative-filtering recommendation system, but one that allows new users to enter ratings and receive personalized recommendations. To accomplish this, we will be using ALS in pyspark. To begin, we will load several libraries and some functions that we have written.\n"
      ]
    },
    {
      "cell_type": "code",
      "metadata": {
        "colab": {
          "base_uri": "https://localhost:8080/"
        },
        "id": "tqde2rTYLoXm",
        "outputId": "af2c4a0e-f586-4208-d942-38482504cd10"
      },
      "source": [
        "!apt-get install openjdk-8-jdk-headless -qq > /dev/null\n",
        "!wget -q https://www-us.apache.org/dist/spark/spark-3.0.1/spark-3.0.1-bin-hadoop2.7.tgz\n",
        "!tar xf spark-3.0.1-bin-hadoop2.7.tgz\n",
        "!pip install -q findspark\n",
        "!pip install pyspark\n",
        "\n",
        "import os\n",
        "os.environ[\"JAVA_HOME\"] = \"/usr/lib/jvm/java-8-openjdk-amd64\"\n",
        "os.environ[\"SPARK_HOME\"] = \"/content/spark-3.0.1-bin-hadoop2.7\"\n",
        "\n",
        "import findspark\n",
        "findspark.init()\n",
        "\n",
        "\n",
        "from pyspark.ml.evaluation import RegressionEvaluator\n",
        "from pyspark.ml.recommendation import ALS \n",
        "from pyspark.ml.tuning import CrossValidator, ParamGridBuilder"
      ],
      "execution_count": null,
      "outputs": [
        {
          "output_type": "stream",
          "text": [
            "Requirement already satisfied: pyspark in /usr/local/lib/python3.6/dist-packages (3.0.1)\n",
            "Requirement already satisfied: py4j==0.10.9 in /usr/local/lib/python3.6/dist-packages (from pyspark) (0.10.9)\n"
          ],
          "name": "stdout"
        }
      ]
    },
    {
      "cell_type": "code",
      "metadata": {
        "id": "CDkrzc4PuxrU"
      },
      "source": [
        "% run /content/drive/MyDrive/CapstoneProject/als_recommender_systems.py"
      ],
      "execution_count": null,
      "outputs": []
    },
    {
      "cell_type": "code",
      "metadata": {
        "id": "Ngqy8tKGLpGm"
      },
      "source": [
        "# import necessary libraries\n",
        "from pyspark.sql import SparkSession\n",
        "\n",
        "# instantiate SparkSession object\n",
        "spark = SparkSession.builder.master('local').getOrCreate()"
      ],
      "execution_count": null,
      "outputs": []
    },
    {
      "cell_type": "markdown",
      "metadata": {
        "id": "GTWeeKpWrbH-"
      },
      "source": [
        "Great our pyspark session is up and running, now let's upload our data. We have 38 csv files, each with ~100,000 ratings. We will load all of these files now and look at our resulting dataframe."
      ]
    },
    {
      "cell_type": "code",
      "metadata": {
        "colab": {
          "base_uri": "https://localhost:8080/"
        },
        "id": "dOr8mVGZSlaX",
        "outputId": "1fa85550-0690-46b1-b3e6-cfac653aefa2"
      },
      "source": [
        "rating_df = spark.read.option('delimiter', '\\t').csv('/content/drive/MyDrive/CapstoneProject/scraped_ratings/*.csv')\n",
        "rating_df = rating_df.selectExpr(\"_c0 as game_id\", \"_c1 as user_name\", \"_c2 as rating\", \"_c3 as comment\")\n",
        "\n",
        "rating_df.show(5)\n",
        "rating_df.count()"
      ],
      "execution_count": null,
      "outputs": [
        {
          "output_type": "stream",
          "text": [
            "+-------+------------+------+--------------------+\n",
            "|game_id|   user_name|rating|             comment|\n",
            "+-------+------------+------+--------------------+\n",
            "|    822|  teambanzai|    10|                null|\n",
            "|    822|    dumarest|    10|                null|\n",
            "|    822|SanguineGrrl|    10|This is my favori...|\n",
            "|    822|   sargeofny|    10|                null|\n",
            "|    822|MagicWiesner|    10|                null|\n",
            "+-------+------------+------+--------------------+\n",
            "only showing top 5 rows\n",
            "\n"
          ],
          "name": "stdout"
        },
        {
          "output_type": "execute_result",
          "data": {
            "text/plain": [
              "3752111"
            ]
          },
          "metadata": {
            "tags": []
          },
          "execution_count": 4
        }
      ]
    },
    {
      "cell_type": "markdown",
      "metadata": {
        "id": "wA0k_ukir4Aw"
      },
      "source": [
        "# Data Cleaning\n",
        "\n",
        "For this project we will not be using the comments of the ratings, so we will go ahead and drop those now."
      ]
    },
    {
      "cell_type": "code",
      "metadata": {
        "colab": {
          "base_uri": "https://localhost:8080/"
        },
        "id": "jIBGNj2RTMXO",
        "outputId": "4d510369-8947-4a46-bf97-b9d5738b9b2f"
      },
      "source": [
        "rating_df = rating_df.drop('comment')\n",
        "rating_df.show(5)"
      ],
      "execution_count": null,
      "outputs": [
        {
          "output_type": "stream",
          "text": [
            "+-------+------------+------+\n",
            "|game_id|   user_name|rating|\n",
            "+-------+------------+------+\n",
            "|    822|  teambanzai|    10|\n",
            "|    822|    dumarest|    10|\n",
            "|    822|SanguineGrrl|    10|\n",
            "|    822|   sargeofny|    10|\n",
            "|    822|MagicWiesner|    10|\n",
            "+-------+------------+------+\n",
            "only showing top 5 rows\n",
            "\n"
          ],
          "name": "stdout"
        }
      ]
    },
    {
      "cell_type": "markdown",
      "metadata": {
        "id": "2A3rzQ-VseRR"
      },
      "source": [
        "Now we will change our user_names in to user_ids since they will need to be an integer for our ALS system."
      ]
    },
    {
      "cell_type": "code",
      "metadata": {
        "colab": {
          "base_uri": "https://localhost:8080/"
        },
        "id": "jqe0Qe_ko-3u",
        "outputId": "efe6d2b2-594c-4bd7-8101-e086850b6294"
      },
      "source": [
        "from pyspark.sql.functions import countDistinct\n",
        "\n",
        "rating_df.select(countDistinct('user_name')).show()"
      ],
      "execution_count": null,
      "outputs": [
        {
          "output_type": "stream",
          "text": [
            "+-------------------------+\n",
            "|count(DISTINCT user_name)|\n",
            "+-------------------------+\n",
            "|                   275860|\n",
            "+-------------------------+\n",
            "\n"
          ],
          "name": "stdout"
        }
      ]
    },
    {
      "cell_type": "code",
      "metadata": {
        "colab": {
          "base_uri": "https://localhost:8080/"
        },
        "id": "HJV_VNW1r4Iq",
        "outputId": "c5afcaed-e794-47f8-9184-860e500c188a"
      },
      "source": [
        "from pyspark.ml.feature import StringIndexer\n",
        "stringIndexer = StringIndexer(inputCol=\"user_name\", outputCol=\"user_id\")\n",
        "model = stringIndexer.fit(rating_df)\n",
        "rating_df = model.transform(rating_df)\n",
        "rating_df.show()"
      ],
      "execution_count": null,
      "outputs": [
        {
          "output_type": "stream",
          "text": [
            "+-------+--------------+------+--------+\n",
            "|game_id|     user_name|rating| user_id|\n",
            "+-------+--------------+------+--------+\n",
            "|    822|    teambanzai|    10| 37019.0|\n",
            "|    822|      dumarest|    10|123063.0|\n",
            "|    822|  SanguineGrrl|    10|167961.0|\n",
            "|    822|     sargeofny|    10|269396.0|\n",
            "|    822|  MagicWiesner|    10| 27440.0|\n",
            "|    822|    Ed_the_Red|    10|  1883.0|\n",
            "|    822|  Paul Slavich|    10| 34561.0|\n",
            "|    822|       starman|    10|  2312.0|\n",
            "|    822|     krcubedex|    10| 95351.0|\n",
            "|    822|Manuel Siebert|    10| 25533.0|\n",
            "|    822|        Elvite|    10| 54624.0|\n",
            "|    822|       dgmyers|    10|252158.0|\n",
            "|    822|   macrovipera|    10|113403.0|\n",
            "|    822|    karlstroff|    10| 95256.0|\n",
            "|    822|   FrankWIrsch|    10| 61152.0|\n",
            "|    822| MBradford1968|    10|190839.0|\n",
            "|    822|shropshireblue|    10|210666.0|\n",
            "|    822|       laurana|    10|176374.0|\n",
            "|    822|         vitas|    10| 10958.0|\n",
            "|    822|      Anaconda|    10| 24359.0|\n",
            "+-------+--------------+------+--------+\n",
            "only showing top 20 rows\n",
            "\n"
          ],
          "name": "stdout"
        }
      ]
    },
    {
      "cell_type": "code",
      "metadata": {
        "colab": {
          "base_uri": "https://localhost:8080/"
        },
        "id": "X4xDRH7q2L31",
        "outputId": "3656e0d5-2be7-4358-9c59-50bcc469c411"
      },
      "source": [
        "rating_df = rating_df.drop('user_name')\n",
        "rating_df.show(5)"
      ],
      "execution_count": null,
      "outputs": [
        {
          "output_type": "stream",
          "text": [
            "+-------+------+--------+\n",
            "|game_id|rating| user_id|\n",
            "+-------+------+--------+\n",
            "|    822|    10| 37019.0|\n",
            "|    822|    10|123063.0|\n",
            "|    822|    10|167961.0|\n",
            "|    822|    10|269396.0|\n",
            "|    822|    10| 27440.0|\n",
            "+-------+------+--------+\n",
            "only showing top 5 rows\n",
            "\n"
          ],
          "name": "stdout"
        }
      ]
    },
    {
      "cell_type": "code",
      "metadata": {
        "colab": {
          "base_uri": "https://localhost:8080/"
        },
        "id": "sMWXDVW7tA8R",
        "outputId": "fca2531a-4fa3-4a20-8fc2-1f2343a5fc67"
      },
      "source": [
        "rating_df.select(countDistinct('user_id')).show()"
      ],
      "execution_count": null,
      "outputs": [
        {
          "output_type": "stream",
          "text": [
            "+-----------------------+\n",
            "|count(DISTINCT user_id)|\n",
            "+-----------------------+\n",
            "|                 275860|\n",
            "+-----------------------+\n",
            "\n"
          ],
          "name": "stdout"
        }
      ]
    },
    {
      "cell_type": "markdown",
      "metadata": {
        "id": "iTVJqlodtfbg"
      },
      "source": [
        "Next, we need to change our rating and game_id columns to integers as well."
      ]
    },
    {
      "cell_type": "code",
      "metadata": {
        "id": "b-l0X8EOtp0T"
      },
      "source": [
        "from pyspark.sql.types import IntegerType\n",
        "rating_df = rating_df.withColumn(\"game_id\", rating_df[\"game_id\"].cast(IntegerType()))\n",
        "rating_df = rating_df.withColumn(\"rating\", rating_df[\"rating\"].cast(IntegerType()))"
      ],
      "execution_count": null,
      "outputs": []
    },
    {
      "cell_type": "markdown",
      "metadata": {
        "id": "AFwjZjZltovg"
      },
      "source": [
        "# Modeling\n",
        "\n",
        "Now we are ready to start modeling. We will separate a train and test set and train a baseline model on our train set. We will evaluate the model on the test set using a regression evaluator for RMSE."
      ]
    },
    {
      "cell_type": "code",
      "metadata": {
        "id": "qpRTbe3wnZgY"
      },
      "source": [
        "train, test = rating_df.randomSplit([.8, .2])\n",
        "als = ALS(maxIter=5, userCol='user_id', itemCol='game_id', ratingCol='rating', coldStartStrategy='drop')\n",
        "model=als.fit(train)"
      ],
      "execution_count": null,
      "outputs": []
    },
    {
      "cell_type": "code",
      "metadata": {
        "colab": {
          "base_uri": "https://localhost:8080/"
        },
        "id": "HJ5q2VHKn-WS",
        "outputId": "5c1d225d-8979-4dd0-ec49-adf9b29007e2"
      },
      "source": [
        "preds = model.transform(test)\n",
        "evaluator = RegressionEvaluator(predictionCol='prediction', labelCol='rating', metricName='rmse')\n",
        "rmse = evaluator.evaluate(preds)\n",
        "print('RMSE: ', rmse)"
      ],
      "execution_count": null,
      "outputs": [
        {
          "output_type": "stream",
          "text": [
            "RMSE:  1.007362122516593\n"
          ],
          "name": "stdout"
        }
      ]
    },
    {
      "cell_type": "markdown",
      "metadata": {
        "id": "Qe-bVo93uP21"
      },
      "source": [
        "The model looks pretty good for a baseline, on a ten-point rating system our error has a little over 1 point difference. Let's see if we can improve on this. We will run a cross validator looking for an optimal rank parameter."
      ]
    },
    {
      "cell_type": "code",
      "metadata": {
        "id": "0boeRGv7xsJR",
        "colab": {
          "base_uri": "https://localhost:8080/"
        },
        "outputId": "5bf4a1a1-177a-4a82-c567-1ea34f008a84"
      },
      "source": [
        "# Warning! This cell takes a while to run.\n",
        "from pyspark.ml.tuning import CrossValidator, ParamGridBuilder\n",
        "reg_params = [.01, .005, .001]\n",
        "for reg_param in reg_params:\n",
        "  als = ALS(userCol='user_id', regParam = reg_param, ratingCol='rating', itemCol='game_id', coldStartStrategy='drop')\n",
        "\n",
        "  param_grid = ParamGridBuilder()\\\n",
        "                .addGrid(als.rank, [4, 8, 12, 16])\\\n",
        "                .build()\n",
        "\n",
        "  cv = CrossValidator(estimator=als, estimatorParamMaps=param_grid, evaluator=evaluator, parallelism=4)\n",
        "  model= cv.fit(train)\n",
        "  predictions = model.transform(test)\n",
        "  evaluator = RegressionEvaluator(metricName=\"rmse\", labelCol=\"rating\",\n",
        "                                  predictionCol=\"prediction\")\n",
        "  rmse = evaluator.evaluate(predictions)\n",
        "  print(reg_param, model.bestModel.rank, rmse)"
      ],
      "execution_count": null,
      "outputs": [
        {
          "output_type": "stream",
          "text": [
            "0.01 4 0.988944988150814\n",
            "0.005 4 0.9850528869880831\n",
            "0.001 4 1.0270820812617203\n"
          ],
          "name": "stdout"
        }
      ]
    },
    {
      "cell_type": "markdown",
      "metadata": {
        "id": "GWat6zH_3TR0"
      },
      "source": [
        "Moving forward we will use 4 for our rank and .005 for our regParam for our ALS model as this combination had the lowest error. Next up we will load our statistics dataframe since we will use the board game name column."
      ]
    },
    {
      "cell_type": "code",
      "metadata": {
        "colab": {
          "base_uri": "https://localhost:8080/",
          "height": 530
        },
        "id": "xE_Cxxzia4OC",
        "outputId": "50382cb7-f9a7-4b89-ba4e-7cfcce712adc"
      },
      "source": [
        "import pandas as pd\n",
        "games_df = pd.read_pickle('/content/drive/MyDrive/CapstoneProject/games_with_descriptions')\n",
        "games_df = games_df.reset_index().rename(columns={'index':'game_id'})\n",
        "games_df.tail()"
      ],
      "execution_count": null,
      "outputs": [
        {
          "output_type": "execute_result",
          "data": {
            "text/html": [
              "<div>\n",
              "<style scoped>\n",
              "    .dataframe tbody tr th:only-of-type {\n",
              "        vertical-align: middle;\n",
              "    }\n",
              "\n",
              "    .dataframe tbody tr th {\n",
              "        vertical-align: top;\n",
              "    }\n",
              "\n",
              "    .dataframe thead th {\n",
              "        text-align: right;\n",
              "    }\n",
              "</style>\n",
              "<table border=\"1\" class=\"dataframe\">\n",
              "  <thead>\n",
              "    <tr style=\"text-align: right;\">\n",
              "      <th></th>\n",
              "      <th>game_id</th>\n",
              "      <th>name</th>\n",
              "      <th>type</th>\n",
              "      <th>year</th>\n",
              "      <th>designer</th>\n",
              "      <th>artist</th>\n",
              "      <th>publisher</th>\n",
              "      <th>min_players</th>\n",
              "      <th>max_players</th>\n",
              "      <th>play_time</th>\n",
              "      <th>min_age</th>\n",
              "      <th>num_ratings</th>\n",
              "      <th>avg_rating</th>\n",
              "      <th>bayes_avg</th>\n",
              "      <th>weight</th>\n",
              "      <th>categories</th>\n",
              "      <th>mechanics</th>\n",
              "      <th>families</th>\n",
              "      <th>description</th>\n",
              "      <th>min_playtime</th>\n",
              "      <th>max_playtime</th>\n",
              "      <th>bgg_rank</th>\n",
              "      <th>boardgame_rank</th>\n",
              "    </tr>\n",
              "  </thead>\n",
              "  <tbody>\n",
              "    <tr>\n",
              "      <th>119973</th>\n",
              "      <td>324992</td>\n",
              "      <td>Riddle Island: 1974</td>\n",
              "      <td>boardgame</td>\n",
              "      <td>2019.0</td>\n",
              "      <td>uncredited</td>\n",
              "      <td>uncredited</td>\n",
              "      <td>TRANSit</td>\n",
              "      <td>1.0</td>\n",
              "      <td>6.0</td>\n",
              "      <td>60.0</td>\n",
              "      <td>8.0</td>\n",
              "      <td>0</td>\n",
              "      <td>0.0</td>\n",
              "      <td>0.0</td>\n",
              "      <td>0.0</td>\n",
              "      <td>['Puzzle']</td>\n",
              "      <td>NaN</td>\n",
              "      <td>['Category: Escape Room Games']</td>\n",
              "      <td>Riddle Island is a original series of escape r...</td>\n",
              "      <td>60</td>\n",
              "      <td>60</td>\n",
              "      <td>NaN</td>\n",
              "      <td>NaN</td>\n",
              "    </tr>\n",
              "    <tr>\n",
              "      <th>119974</th>\n",
              "      <td>324993</td>\n",
              "      <td>Big Boy Throwdown</td>\n",
              "      <td>boardgame</td>\n",
              "      <td>2020.0</td>\n",
              "      <td>uncredited</td>\n",
              "      <td>uncredited</td>\n",
              "      <td>(Web published)</td>\n",
              "      <td>2.0</td>\n",
              "      <td>6.0</td>\n",
              "      <td>25.0</td>\n",
              "      <td>8.0</td>\n",
              "      <td>0</td>\n",
              "      <td>0.0</td>\n",
              "      <td>0.0</td>\n",
              "      <td>0.0</td>\n",
              "      <td>['Card Game', 'Fantasy', 'Fighting', 'Humor']</td>\n",
              "      <td>['Dice Rolling', 'Events', 'Once-Per-Game Abil...</td>\n",
              "      <td>NaN</td>\n",
              "      <td>Armed with a hand of crazy, colorful character...</td>\n",
              "      <td>5</td>\n",
              "      <td>25</td>\n",
              "      <td>NaN</td>\n",
              "      <td>NaN</td>\n",
              "    </tr>\n",
              "    <tr>\n",
              "      <th>119975</th>\n",
              "      <td>324997</td>\n",
              "      <td>Fallen knight</td>\n",
              "      <td>boardgame</td>\n",
              "      <td>0.0</td>\n",
              "      <td>Tulga</td>\n",
              "      <td>Telmen</td>\n",
              "      <td>Gansukh</td>\n",
              "      <td>0.0</td>\n",
              "      <td>0.0</td>\n",
              "      <td>0.0</td>\n",
              "      <td>0.0</td>\n",
              "      <td>0</td>\n",
              "      <td>0.0</td>\n",
              "      <td>0.0</td>\n",
              "      <td>0.0</td>\n",
              "      <td>['Horror']</td>\n",
              "      <td>['Cooperative Game']</td>\n",
              "      <td>['Admin: Better Description Needed!', 'Admin: ...</td>\n",
              "      <td>Fallen Knight is a 1-4 player cooperative dung...</td>\n",
              "      <td>0</td>\n",
              "      <td>0</td>\n",
              "      <td>NaN</td>\n",
              "      <td>NaN</td>\n",
              "    </tr>\n",
              "    <tr>\n",
              "      <th>119976</th>\n",
              "      <td>324998</td>\n",
              "      <td>The Treasure Cave of Dragon</td>\n",
              "      <td>boardgame</td>\n",
              "      <td>2019.0</td>\n",
              "      <td>uncredited</td>\n",
              "      <td>uncredited</td>\n",
              "      <td>TRANSit</td>\n",
              "      <td>2.0</td>\n",
              "      <td>6.0</td>\n",
              "      <td>20.0</td>\n",
              "      <td>8.0</td>\n",
              "      <td>0</td>\n",
              "      <td>0.0</td>\n",
              "      <td>0.0</td>\n",
              "      <td>0.0</td>\n",
              "      <td>['Card Game', 'Dice', 'Number', 'Party Game']</td>\n",
              "      <td>['Dice Rolling', 'Push Your Luck']</td>\n",
              "      <td>NaN</td>\n",
              "      <td>Holding an ancient treasure map, you keep goin...</td>\n",
              "      <td>20</td>\n",
              "      <td>20</td>\n",
              "      <td>NaN</td>\n",
              "      <td>NaN</td>\n",
              "    </tr>\n",
              "    <tr>\n",
              "      <th>119977</th>\n",
              "      <td>325000</td>\n",
              "      <td>Zazz</td>\n",
              "      <td>boardgame</td>\n",
              "      <td>1963.0</td>\n",
              "      <td>Fredda F. S. Sieve</td>\n",
              "      <td>uncredited</td>\n",
              "      <td>Advertising Attractions, INC.</td>\n",
              "      <td>0.0</td>\n",
              "      <td>0.0</td>\n",
              "      <td>0.0</td>\n",
              "      <td>0.0</td>\n",
              "      <td>0</td>\n",
              "      <td>0.0</td>\n",
              "      <td>0.0</td>\n",
              "      <td>0.0</td>\n",
              "      <td>NaN</td>\n",
              "      <td>['Dice Rolling']</td>\n",
              "      <td>NaN</td>\n",
              "      <td>One of the first games to use a set of differe...</td>\n",
              "      <td>0</td>\n",
              "      <td>0</td>\n",
              "      <td>NaN</td>\n",
              "      <td>NaN</td>\n",
              "    </tr>\n",
              "  </tbody>\n",
              "</table>\n",
              "</div>"
            ],
            "text/plain": [
              "        game_id                         name  ... bgg_rank  boardgame_rank\n",
              "119973   324992          Riddle Island: 1974  ...      NaN             NaN\n",
              "119974   324993            Big Boy Throwdown  ...      NaN             NaN\n",
              "119975   324997                Fallen knight  ...      NaN             NaN\n",
              "119976   324998  The Treasure Cave of Dragon  ...      NaN             NaN\n",
              "119977   325000                         Zazz  ...      NaN             NaN\n",
              "\n",
              "[5 rows x 23 columns]"
            ]
          },
          "metadata": {
            "tags": []
          },
          "execution_count": 10
        }
      ]
    },
    {
      "cell_type": "markdown",
      "metadata": {
        "id": "SXyV-mXW4kLD"
      },
      "source": [
        "Now we will use a function to enter ratings for a new user (me) and get some recommendations."
      ]
    },
    {
      "cell_type": "code",
      "metadata": {
        "colab": {
          "base_uri": "https://localhost:8080/"
        },
        "id": "LY8K4AlHzBBg",
        "outputId": "5c144751-ee8d-4bbd-bc83-e964aa7c9fa9"
      },
      "source": [
        "user_id = 1000000\n",
        "user_ratings_1 = [('Cthulhu Wars', 8, user_id),\n",
        "                  ('Terraforming Mars', 9, user_id),\n",
        "                  ('Gloomhaven', 9, user_id),\n",
        "                  ('Twilight Imperium: Fourth Edition', 8, user_id),\n",
        "                  ('Mage Knight Board Game', 8, user_id)]\n",
        "new_user_recs(user_id,\n",
        "             new_ratings= user_ratings_1,\n",
        "             rating_df= rating_df,\n",
        "             stats_df= games_df, \n",
        "             num_recs= 5,\n",
        "             spark=spark)"
      ],
      "execution_count": null,
      "outputs": [
        {
          "output_type": "stream",
          "text": [
            "Recommendation 1: Nemesis | Predicted Score = 8.86\n",
            "Recommendation 2: Go | Predicted Score = 8.6\n",
            "Recommendation 3: Magic: The Gathering | Predicted Score = 8.6\n",
            "Recommendation 4: Twilight Struggle | Predicted Score = 8.57\n",
            "Recommendation 5: Puerto Rico | Predicted Score = 8.57\n"
          ],
          "name": "stdout"
        }
      ]
    },
    {
      "cell_type": "markdown",
      "metadata": {
        "id": "Uc0M-kj8uNUG"
      },
      "source": [
        "After entering 5 of my favorite games and their ratings, we got five recommendations. Of those, two are games that I have been hoping to try out soon (Go and Puerto Rico), one of my favorite games (Magic the Gathering) and two games that I am familiar with but haven't played. Overall, some good recommendations! And the best part is that if we keep adding recommendations, the system only gets better. Overall, we have built a solid recommendation system to give user-based recommendations.\n",
        "\n",
        "You can run the next cell to enter new games and ratings and get personalized recommendations."
      ]
    },
    {
      "cell_type": "code",
      "metadata": {
        "colab": {
          "base_uri": "https://localhost:8080/"
        },
        "id": "7dOmOEW5sE_B",
        "outputId": "d2cd5bc1-8ef8-42a8-e01e-c0be637e199f"
      },
      "source": [
        "create_new_recommendations(rating_df, games_df, 5, spark)"
      ],
      "execution_count": null,
      "outputs": [
        {
          "output_type": "stream",
          "text": [
            "Enter a game for recommendations. Cthulhu Wars\n",
            "Enter rating. 8\n",
            "Rate more games? y/n Terraforming Mars\n",
            "Enter a game for recommendations. Terraforming Mars\n",
            "Enter rating. 9\n",
            "Rate more games? y/n y\n",
            "Enter a game for recommendations. Gloomhaven\n",
            "Enter rating. 9\n",
            "Rate more games? y/n y\n",
            "Enter a game for recommendations. Twilight Imperium: Fourth Edition\n",
            "Enter rating. 8\n",
            "Rate more games? y/n y\n",
            "Enter a game for recommendations. Mage Knight Board Game\n",
            "Enter rating. 8\n",
            "Rate more games? y/n n\n",
            "Recommendation 1: Race for the Galaxy | Predicted Score = 8.7\n",
            "Recommendation 2: Twilight Struggle | Predicted Score = 8.69\n",
            "Recommendation 3: Scythe | Predicted Score = 8.69\n",
            "Recommendation 4: Magic: The Gathering | Predicted Score = 8.68\n",
            "Recommendation 5: Through the Ages: A Story of Civilization | Predicted Score = 8.66\n"
          ],
          "name": "stdout"
        }
      ]
    },
    {
      "cell_type": "markdown",
      "metadata": {
        "id": "rTl1PEjV4sTR"
      },
      "source": [
        "\n",
        "# Conclusion\n",
        "\n",
        "We have explored many different kinds of recommendation systems over the course of this project. First, we looked at using natural language processing to identify similar games based on the content of each game. We used two models for this approach a count vectorized model and a tf-idf vectorized model. We determined that the tf-idf model was stronger overall. Next we looked at two collaborative-filtering models. When given a game, these models will return several other games that are rated similarly by users who liked that game. Our two collaborative-filtering models were more difficult to separate in regards to quality. Of the two, I prefer the KNN model, but both had good recommendations. And finally, we took a look at pyspark als to create new users and get recommendations based on user activity, and not on individual items.\n",
        "\n",
        "While all models were deemed to be pretty effective, they all do slightly different things. I have three recommendations for the implementation of these models. First, I suggest using the tf-idf NLP model as a scrolling banner when selling boardgames. This will allow customers to see games that are similar to the game that they are currently considering purchasing. Second, I would suggest using the nearest neighbor model as a second banner indicating games that other customers liked. This will allow customers to see games that might be a bit different than what they are used to playing, but are thought very highly of by like minded people.  Finally, I suggest implementing the ALS model as a separate component of a business's webpage. By having a page where customers can rate their collections, we can offer them more personalized recommendations. Ultimately all of these models should help customers navigate the overwhelming number of boardgames for purchase and find games that they will enjoy.\n",
        "\n",
        "# Future Work\n",
        "\n",
        "There are several way that we can advance this project. The first and most obvious way is to gather more data. By filling in our rather sparse matrix with more reviews we will be able to finely tune our models and provide better recommendations. Second, we can test our knn and svd collaborative-filtering models. By gathering user feedback on the recommendations provided by those models, we can better evaluate our recommendations and tune our parameters. And finally we can further adjust our content-based system by further adjusting the tokens used for NLP. If we more closely monitor which tokens we are using, we might be able to create recommendations that are not mostly expansions and reprints."
      ]
    },
    {
      "cell_type": "code",
      "metadata": {
        "id": "_ObCkx9axsei"
      },
      "source": [
        ""
      ],
      "execution_count": null,
      "outputs": []
    }
  ]
}