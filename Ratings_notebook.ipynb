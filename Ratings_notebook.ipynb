{
 "cells": [
  {
   "cell_type": "code",
   "execution_count": 1,
   "metadata": {},
   "outputs": [],
   "source": [
    "import pandas as pd\n",
    "import numpy as np\n",
    "from os import listdir  "
   ]
  },
  {
   "cell_type": "code",
   "execution_count": 2,
   "metadata": {
    "scrolled": true
   },
   "outputs": [
    {
     "data": {
      "text/html": [
       "<div>\n",
       "<style scoped>\n",
       "    .dataframe tbody tr th:only-of-type {\n",
       "        vertical-align: middle;\n",
       "    }\n",
       "\n",
       "    .dataframe tbody tr th {\n",
       "        vertical-align: top;\n",
       "    }\n",
       "\n",
       "    .dataframe thead th {\n",
       "        text-align: right;\n",
       "    }\n",
       "</style>\n",
       "<table border=\"1\" class=\"dataframe\">\n",
       "  <thead>\n",
       "    <tr style=\"text-align: right;\">\n",
       "      <th></th>\n",
       "      <th>game_id</th>\n",
       "      <th>user</th>\n",
       "      <th>rating</th>\n",
       "      <th>comment</th>\n",
       "    </tr>\n",
       "  </thead>\n",
       "  <tbody>\n",
       "    <tr>\n",
       "      <th>0</th>\n",
       "      <td>72991</td>\n",
       "      <td>Spielbox Ratings</td>\n",
       "      <td>7.5</td>\n",
       "      <td>2010.7 8.8.7.8.8.7.7.6.8.8.7</td>\n",
       "    </tr>\n",
       "    <tr>\n",
       "      <th>1</th>\n",
       "      <td>72991</td>\n",
       "      <td>ivanyv</td>\n",
       "      <td>7.5</td>\n",
       "      <td>NaN</td>\n",
       "    </tr>\n",
       "    <tr>\n",
       "      <th>2</th>\n",
       "      <td>72991</td>\n",
       "      <td>macklau</td>\n",
       "      <td>7.5</td>\n",
       "      <td>NaN</td>\n",
       "    </tr>\n",
       "    <tr>\n",
       "      <th>3</th>\n",
       "      <td>72991</td>\n",
       "      <td>cjharris30</td>\n",
       "      <td>7.5</td>\n",
       "      <td>NaN</td>\n",
       "    </tr>\n",
       "    <tr>\n",
       "      <th>4</th>\n",
       "      <td>72991</td>\n",
       "      <td>dalek22</td>\n",
       "      <td>7.5</td>\n",
       "      <td>NaN</td>\n",
       "    </tr>\n",
       "  </tbody>\n",
       "</table>\n",
       "</div>"
      ],
      "text/plain": [
       "   game_id              user  rating                       comment\n",
       "0    72991  Spielbox Ratings     7.5  2010.7 8.8.7.8.8.7.7.6.8.8.7\n",
       "1    72991            ivanyv     7.5                           NaN\n",
       "2    72991           macklau     7.5                           NaN\n",
       "3    72991        cjharris30     7.5                           NaN\n",
       "4    72991           dalek22     7.5                           NaN"
      ]
     },
     "execution_count": 2,
     "metadata": {},
     "output_type": "execute_result"
    }
   ],
   "source": [
    "filepaths = [('scrapers/scraped_ratings/' + f) for f in listdir(\"scrapers/scraped_ratings\")]\n",
    "reviews = pd.concat([pd.read_csv(filepath, delimiter='\\t', header=None) for filepath in filepaths[:38]], axis=0)\n",
    "reviews.columns = ['game_id', 'user', 'rating', 'comment']\n",
    "reviews.head()"
   ]
  },
  {
   "cell_type": "code",
   "execution_count": 4,
   "metadata": {},
   "outputs": [
    {
     "data": {
      "text/plain": [
       "3751793"
      ]
     },
     "execution_count": 4,
     "metadata": {},
     "output_type": "execute_result"
    }
   ],
   "source": [
    "reviews.columns = ['game_id', 'user', 'rating', 'comment']\n",
    "len(reviews)"
   ]
  },
  {
   "cell_type": "code",
   "execution_count": 5,
   "metadata": {},
   "outputs": [],
   "source": [
    "reviews2 = pd.read_csv('scrapers/scraped_ratings/ratings38.csv', header=None, delimiter='\\t')\n",
    "reviews2.columns = ['game_id', 'user', 'rating', 'comment']"
   ]
  },
  {
   "cell_type": "code",
   "execution_count": 6,
   "metadata": {},
   "outputs": [
    {
     "name": "stdout",
     "output_type": "stream",
     "text": [
      "3803904\n"
     ]
    },
    {
     "data": {
      "text/html": [
       "<div>\n",
       "<style scoped>\n",
       "    .dataframe tbody tr th:only-of-type {\n",
       "        vertical-align: middle;\n",
       "    }\n",
       "\n",
       "    .dataframe tbody tr th {\n",
       "        vertical-align: top;\n",
       "    }\n",
       "\n",
       "    .dataframe thead th {\n",
       "        text-align: right;\n",
       "    }\n",
       "</style>\n",
       "<table border=\"1\" class=\"dataframe\">\n",
       "  <thead>\n",
       "    <tr style=\"text-align: right;\">\n",
       "      <th></th>\n",
       "      <th>game_id</th>\n",
       "      <th>user</th>\n",
       "      <th>rating</th>\n",
       "      <th>comment</th>\n",
       "    </tr>\n",
       "  </thead>\n",
       "  <tbody>\n",
       "    <tr>\n",
       "      <th>0</th>\n",
       "      <td>72991</td>\n",
       "      <td>Spielbox Ratings</td>\n",
       "      <td>7.5</td>\n",
       "      <td>2010.7 8.8.7.8.8.7.7.6.8.8.7</td>\n",
       "    </tr>\n",
       "    <tr>\n",
       "      <th>1</th>\n",
       "      <td>72991</td>\n",
       "      <td>ivanyv</td>\n",
       "      <td>7.5</td>\n",
       "      <td>NaN</td>\n",
       "    </tr>\n",
       "    <tr>\n",
       "      <th>2</th>\n",
       "      <td>72991</td>\n",
       "      <td>macklau</td>\n",
       "      <td>7.5</td>\n",
       "      <td>NaN</td>\n",
       "    </tr>\n",
       "    <tr>\n",
       "      <th>3</th>\n",
       "      <td>72991</td>\n",
       "      <td>cjharris30</td>\n",
       "      <td>7.5</td>\n",
       "      <td>NaN</td>\n",
       "    </tr>\n",
       "    <tr>\n",
       "      <th>4</th>\n",
       "      <td>72991</td>\n",
       "      <td>dalek22</td>\n",
       "      <td>7.5</td>\n",
       "      <td>NaN</td>\n",
       "    </tr>\n",
       "  </tbody>\n",
       "</table>\n",
       "</div>"
      ],
      "text/plain": [
       "   game_id              user  rating                       comment\n",
       "0    72991  Spielbox Ratings     7.5  2010.7 8.8.7.8.8.7.7.6.8.8.7\n",
       "1    72991            ivanyv     7.5                           NaN\n",
       "2    72991           macklau     7.5                           NaN\n",
       "3    72991        cjharris30     7.5                           NaN\n",
       "4    72991           dalek22     7.5                           NaN"
      ]
     },
     "execution_count": 6,
     "metadata": {},
     "output_type": "execute_result"
    }
   ],
   "source": [
    "reviews = pd.concat([reviews, reviews2], axis=0)\n",
    "print(len(reviews))\n",
    "reviews.head()"
   ]
  },
  {
   "cell_type": "code",
   "execution_count": 10,
   "metadata": {},
   "outputs": [
    {
     "data": {
      "text/plain": [
       "3195840"
      ]
     },
     "execution_count": 10,
     "metadata": {},
     "output_type": "execute_result"
    }
   ],
   "source": [
    "more_than_10_reviews = reviews[reviews['user'].map(reviews['user'].value_counts()) >= 10]\n",
    "len(more_than_10_reviews)"
   ]
  },
  {
   "cell_type": "code",
   "execution_count": 8,
   "metadata": {},
   "outputs": [
    {
     "data": {
      "text/plain": [
       "Doel                1202\n",
       "Tolkana             1200\n",
       "RichardIngram       1027\n",
       "TomVasel             954\n",
       "Walt Mulder          887\n",
       "Master Thomas        749\n",
       "wejejeei             729\n",
       "Nap16                712\n",
       "rei70                704\n",
       "BoardGamer2008       700\n",
       "Alan How             677\n",
       "RonCarlson01         674\n",
       "fiorevita            671\n",
       "Thrylos              655\n",
       "yaguiu               652\n",
       "BeyondMonopoly       650\n",
       "ErisQuilty           642\n",
       "bpsyc                641\n",
       "warta                605\n",
       "leffe dubbel         586\n",
       "Tomol                556\n",
       "Hessu68              553\n",
       "PBrennan             542\n",
       "Pozman               542\n",
       "Boromir1983          537\n",
       "loeil                532\n",
       "cowhollow            514\n",
       "Hopalong             502\n",
       "visard               500\n",
       "averagerating        493\n",
       "                    ... \n",
       "raquelnilla           10\n",
       "Ghaleon               10\n",
       "moondog               10\n",
       "Nivad                 10\n",
       "Nairoth               10\n",
       "crazychemgeek         10\n",
       "Overmann              10\n",
       "ThomasWillinger       10\n",
       "omidkeivani           10\n",
       "KoenigNord            10\n",
       "argmin_h              10\n",
       "zabawki               10\n",
       "SiloraK               10\n",
       "BassT                 10\n",
       "yutaka88              10\n",
       "onz87                 10\n",
       "djammmer              10\n",
       "Sokunokumi            10\n",
       "sag_aloo              10\n",
       "Riinaaja              10\n",
       "Parox                 10\n",
       "mirekkluge            10\n",
       "n3x3n                 10\n",
       "supitza               10\n",
       "Trocki                10\n",
       "seamless              10\n",
       "larrydurbin           10\n",
       "Robotsandpuppets      10\n",
       "tomnopop403           10\n",
       "Philman0              10\n",
       "Name: user, Length: 90556, dtype: int64"
      ]
     },
     "execution_count": 8,
     "metadata": {},
     "output_type": "execute_result"
    }
   ],
   "source": [
    "more_than_10_reviews.user.value_counts()"
   ]
  },
  {
   "cell_type": "code",
   "execution_count": null,
   "metadata": {},
   "outputs": [],
   "source": []
  }
 ],
 "metadata": {
  "kernelspec": {
   "display_name": "Python 3",
   "language": "python",
   "name": "python3"
  },
  "language_info": {
   "codemirror_mode": {
    "name": "ipython",
    "version": 3
   },
   "file_extension": ".py",
   "mimetype": "text/x-python",
   "name": "python",
   "nbconvert_exporter": "python",
   "pygments_lexer": "ipython3",
   "version": "3.6.6"
  }
 },
 "nbformat": 4,
 "nbformat_minor": 2
}
